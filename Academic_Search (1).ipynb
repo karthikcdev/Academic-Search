{
  "nbformat": 4,
  "nbformat_minor": 0,
  "metadata": {
    "colab": {
      "provenance": []
    },
    "kernelspec": {
      "name": "python3",
      "display_name": "Python 3"
    },
    "language_info": {
      "name": "python"
    },
    "widgets": {
      "application/vnd.jupyter.widget-state+json": {
        "e39aae37cbcb46ce8d3b687c797db224": {
          "model_module": "@jupyter-widgets/controls",
          "model_name": "HBoxModel",
          "model_module_version": "1.5.0",
          "state": {
            "_dom_classes": [],
            "_model_module": "@jupyter-widgets/controls",
            "_model_module_version": "1.5.0",
            "_model_name": "HBoxModel",
            "_view_count": null,
            "_view_module": "@jupyter-widgets/controls",
            "_view_module_version": "1.5.0",
            "_view_name": "HBoxView",
            "box_style": "",
            "children": [
              "IPY_MODEL_a04a3ddefd5f4b7a8f51f3195d4df2f1",
              "IPY_MODEL_b444cd5526bf4cacaf3776a54bebeffc",
              "IPY_MODEL_80db591216244361b7a83ab9ce133f0d"
            ],
            "layout": "IPY_MODEL_998f8c8fb67e40c1b325f6198319cd4e"
          }
        },
        "a04a3ddefd5f4b7a8f51f3195d4df2f1": {
          "model_module": "@jupyter-widgets/controls",
          "model_name": "HTMLModel",
          "model_module_version": "1.5.0",
          "state": {
            "_dom_classes": [],
            "_model_module": "@jupyter-widgets/controls",
            "_model_module_version": "1.5.0",
            "_model_name": "HTMLModel",
            "_view_count": null,
            "_view_module": "@jupyter-widgets/controls",
            "_view_module_version": "1.5.0",
            "_view_name": "HTMLView",
            "description": "",
            "description_tooltip": null,
            "layout": "IPY_MODEL_2bf637c325074792afa84dfabe0fd21e",
            "placeholder": "​",
            "style": "IPY_MODEL_a18d8d31ab664366ad55f0a24edf407a",
            "value": "Batches: 100%"
          }
        },
        "b444cd5526bf4cacaf3776a54bebeffc": {
          "model_module": "@jupyter-widgets/controls",
          "model_name": "FloatProgressModel",
          "model_module_version": "1.5.0",
          "state": {
            "_dom_classes": [],
            "_model_module": "@jupyter-widgets/controls",
            "_model_module_version": "1.5.0",
            "_model_name": "FloatProgressModel",
            "_view_count": null,
            "_view_module": "@jupyter-widgets/controls",
            "_view_module_version": "1.5.0",
            "_view_name": "ProgressView",
            "bar_style": "success",
            "description": "",
            "description_tooltip": null,
            "layout": "IPY_MODEL_df828a26e1844c08b2f899afd0d6389d",
            "max": 63,
            "min": 0,
            "orientation": "horizontal",
            "style": "IPY_MODEL_74dae2f9b82c4229b231fc05172147f3",
            "value": 63
          }
        },
        "80db591216244361b7a83ab9ce133f0d": {
          "model_module": "@jupyter-widgets/controls",
          "model_name": "HTMLModel",
          "model_module_version": "1.5.0",
          "state": {
            "_dom_classes": [],
            "_model_module": "@jupyter-widgets/controls",
            "_model_module_version": "1.5.0",
            "_model_name": "HTMLModel",
            "_view_count": null,
            "_view_module": "@jupyter-widgets/controls",
            "_view_module_version": "1.5.0",
            "_view_name": "HTMLView",
            "description": "",
            "description_tooltip": null,
            "layout": "IPY_MODEL_6c4bcaa50cba4f07893665d031454539",
            "placeholder": "​",
            "style": "IPY_MODEL_97e290ea50c847d5a94251ea4d965559",
            "value": " 63/63 [04:05&lt;00:00,  1.74s/it]"
          }
        },
        "998f8c8fb67e40c1b325f6198319cd4e": {
          "model_module": "@jupyter-widgets/base",
          "model_name": "LayoutModel",
          "model_module_version": "1.2.0",
          "state": {
            "_model_module": "@jupyter-widgets/base",
            "_model_module_version": "1.2.0",
            "_model_name": "LayoutModel",
            "_view_count": null,
            "_view_module": "@jupyter-widgets/base",
            "_view_module_version": "1.2.0",
            "_view_name": "LayoutView",
            "align_content": null,
            "align_items": null,
            "align_self": null,
            "border": null,
            "bottom": null,
            "display": null,
            "flex": null,
            "flex_flow": null,
            "grid_area": null,
            "grid_auto_columns": null,
            "grid_auto_flow": null,
            "grid_auto_rows": null,
            "grid_column": null,
            "grid_gap": null,
            "grid_row": null,
            "grid_template_areas": null,
            "grid_template_columns": null,
            "grid_template_rows": null,
            "height": null,
            "justify_content": null,
            "justify_items": null,
            "left": null,
            "margin": null,
            "max_height": null,
            "max_width": null,
            "min_height": null,
            "min_width": null,
            "object_fit": null,
            "object_position": null,
            "order": null,
            "overflow": null,
            "overflow_x": null,
            "overflow_y": null,
            "padding": null,
            "right": null,
            "top": null,
            "visibility": null,
            "width": null
          }
        },
        "2bf637c325074792afa84dfabe0fd21e": {
          "model_module": "@jupyter-widgets/base",
          "model_name": "LayoutModel",
          "model_module_version": "1.2.0",
          "state": {
            "_model_module": "@jupyter-widgets/base",
            "_model_module_version": "1.2.0",
            "_model_name": "LayoutModel",
            "_view_count": null,
            "_view_module": "@jupyter-widgets/base",
            "_view_module_version": "1.2.0",
            "_view_name": "LayoutView",
            "align_content": null,
            "align_items": null,
            "align_self": null,
            "border": null,
            "bottom": null,
            "display": null,
            "flex": null,
            "flex_flow": null,
            "grid_area": null,
            "grid_auto_columns": null,
            "grid_auto_flow": null,
            "grid_auto_rows": null,
            "grid_column": null,
            "grid_gap": null,
            "grid_row": null,
            "grid_template_areas": null,
            "grid_template_columns": null,
            "grid_template_rows": null,
            "height": null,
            "justify_content": null,
            "justify_items": null,
            "left": null,
            "margin": null,
            "max_height": null,
            "max_width": null,
            "min_height": null,
            "min_width": null,
            "object_fit": null,
            "object_position": null,
            "order": null,
            "overflow": null,
            "overflow_x": null,
            "overflow_y": null,
            "padding": null,
            "right": null,
            "top": null,
            "visibility": null,
            "width": null
          }
        },
        "a18d8d31ab664366ad55f0a24edf407a": {
          "model_module": "@jupyter-widgets/controls",
          "model_name": "DescriptionStyleModel",
          "model_module_version": "1.5.0",
          "state": {
            "_model_module": "@jupyter-widgets/controls",
            "_model_module_version": "1.5.0",
            "_model_name": "DescriptionStyleModel",
            "_view_count": null,
            "_view_module": "@jupyter-widgets/base",
            "_view_module_version": "1.2.0",
            "_view_name": "StyleView",
            "description_width": ""
          }
        },
        "df828a26e1844c08b2f899afd0d6389d": {
          "model_module": "@jupyter-widgets/base",
          "model_name": "LayoutModel",
          "model_module_version": "1.2.0",
          "state": {
            "_model_module": "@jupyter-widgets/base",
            "_model_module_version": "1.2.0",
            "_model_name": "LayoutModel",
            "_view_count": null,
            "_view_module": "@jupyter-widgets/base",
            "_view_module_version": "1.2.0",
            "_view_name": "LayoutView",
            "align_content": null,
            "align_items": null,
            "align_self": null,
            "border": null,
            "bottom": null,
            "display": null,
            "flex": null,
            "flex_flow": null,
            "grid_area": null,
            "grid_auto_columns": null,
            "grid_auto_flow": null,
            "grid_auto_rows": null,
            "grid_column": null,
            "grid_gap": null,
            "grid_row": null,
            "grid_template_areas": null,
            "grid_template_columns": null,
            "grid_template_rows": null,
            "height": null,
            "justify_content": null,
            "justify_items": null,
            "left": null,
            "margin": null,
            "max_height": null,
            "max_width": null,
            "min_height": null,
            "min_width": null,
            "object_fit": null,
            "object_position": null,
            "order": null,
            "overflow": null,
            "overflow_x": null,
            "overflow_y": null,
            "padding": null,
            "right": null,
            "top": null,
            "visibility": null,
            "width": null
          }
        },
        "74dae2f9b82c4229b231fc05172147f3": {
          "model_module": "@jupyter-widgets/controls",
          "model_name": "ProgressStyleModel",
          "model_module_version": "1.5.0",
          "state": {
            "_model_module": "@jupyter-widgets/controls",
            "_model_module_version": "1.5.0",
            "_model_name": "ProgressStyleModel",
            "_view_count": null,
            "_view_module": "@jupyter-widgets/base",
            "_view_module_version": "1.2.0",
            "_view_name": "StyleView",
            "bar_color": null,
            "description_width": ""
          }
        },
        "6c4bcaa50cba4f07893665d031454539": {
          "model_module": "@jupyter-widgets/base",
          "model_name": "LayoutModel",
          "model_module_version": "1.2.0",
          "state": {
            "_model_module": "@jupyter-widgets/base",
            "_model_module_version": "1.2.0",
            "_model_name": "LayoutModel",
            "_view_count": null,
            "_view_module": "@jupyter-widgets/base",
            "_view_module_version": "1.2.0",
            "_view_name": "LayoutView",
            "align_content": null,
            "align_items": null,
            "align_self": null,
            "border": null,
            "bottom": null,
            "display": null,
            "flex": null,
            "flex_flow": null,
            "grid_area": null,
            "grid_auto_columns": null,
            "grid_auto_flow": null,
            "grid_auto_rows": null,
            "grid_column": null,
            "grid_gap": null,
            "grid_row": null,
            "grid_template_areas": null,
            "grid_template_columns": null,
            "grid_template_rows": null,
            "height": null,
            "justify_content": null,
            "justify_items": null,
            "left": null,
            "margin": null,
            "max_height": null,
            "max_width": null,
            "min_height": null,
            "min_width": null,
            "object_fit": null,
            "object_position": null,
            "order": null,
            "overflow": null,
            "overflow_x": null,
            "overflow_y": null,
            "padding": null,
            "right": null,
            "top": null,
            "visibility": null,
            "width": null
          }
        },
        "97e290ea50c847d5a94251ea4d965559": {
          "model_module": "@jupyter-widgets/controls",
          "model_name": "DescriptionStyleModel",
          "model_module_version": "1.5.0",
          "state": {
            "_model_module": "@jupyter-widgets/controls",
            "_model_module_version": "1.5.0",
            "_model_name": "DescriptionStyleModel",
            "_view_count": null,
            "_view_module": "@jupyter-widgets/base",
            "_view_module_version": "1.2.0",
            "_view_name": "StyleView",
            "description_width": ""
          }
        },
        "9d835804af284766a3711c65698f55b3": {
          "model_module": "@jupyter-widgets/controls",
          "model_name": "HBoxModel",
          "model_module_version": "1.5.0",
          "state": {
            "_dom_classes": [],
            "_model_module": "@jupyter-widgets/controls",
            "_model_module_version": "1.5.0",
            "_model_name": "HBoxModel",
            "_view_count": null,
            "_view_module": "@jupyter-widgets/controls",
            "_view_module_version": "1.5.0",
            "_view_name": "HBoxView",
            "box_style": "",
            "children": [
              "IPY_MODEL_d7aabddca80e4418aa5a48e87a607b9a",
              "IPY_MODEL_39bfeadeb0434d9ca6e993293c39a2f6",
              "IPY_MODEL_5f0e13b5620f4e26b2f4c76f9a0cead2"
            ],
            "layout": "IPY_MODEL_9963dbcaf33e469b8df993845d742e26"
          }
        },
        "d7aabddca80e4418aa5a48e87a607b9a": {
          "model_module": "@jupyter-widgets/controls",
          "model_name": "HTMLModel",
          "model_module_version": "1.5.0",
          "state": {
            "_dom_classes": [],
            "_model_module": "@jupyter-widgets/controls",
            "_model_module_version": "1.5.0",
            "_model_name": "HTMLModel",
            "_view_count": null,
            "_view_module": "@jupyter-widgets/controls",
            "_view_module_version": "1.5.0",
            "_view_name": "HTMLView",
            "description": "",
            "description_tooltip": null,
            "layout": "IPY_MODEL_2e609ee877b8426c87a52049482b39f1",
            "placeholder": "​",
            "style": "IPY_MODEL_153d10441482456bbdf0909d22859abe",
            "value": "Batches: 100%"
          }
        },
        "39bfeadeb0434d9ca6e993293c39a2f6": {
          "model_module": "@jupyter-widgets/controls",
          "model_name": "FloatProgressModel",
          "model_module_version": "1.5.0",
          "state": {
            "_dom_classes": [],
            "_model_module": "@jupyter-widgets/controls",
            "_model_module_version": "1.5.0",
            "_model_name": "FloatProgressModel",
            "_view_count": null,
            "_view_module": "@jupyter-widgets/controls",
            "_view_module_version": "1.5.0",
            "_view_name": "ProgressView",
            "bar_style": "success",
            "description": "",
            "description_tooltip": null,
            "layout": "IPY_MODEL_46dc29fadecb42f2852484918ae44dc6",
            "max": 1,
            "min": 0,
            "orientation": "horizontal",
            "style": "IPY_MODEL_f327c67b75964331b94beac6346b1d30",
            "value": 1
          }
        },
        "5f0e13b5620f4e26b2f4c76f9a0cead2": {
          "model_module": "@jupyter-widgets/controls",
          "model_name": "HTMLModel",
          "model_module_version": "1.5.0",
          "state": {
            "_dom_classes": [],
            "_model_module": "@jupyter-widgets/controls",
            "_model_module_version": "1.5.0",
            "_model_name": "HTMLModel",
            "_view_count": null,
            "_view_module": "@jupyter-widgets/controls",
            "_view_module_version": "1.5.0",
            "_view_name": "HTMLView",
            "description": "",
            "description_tooltip": null,
            "layout": "IPY_MODEL_089f5cba63294c4ea9d0c633e4659324",
            "placeholder": "​",
            "style": "IPY_MODEL_eb0d41e03c814dde8f2ab753778e9017",
            "value": " 1/1 [00:00&lt;00:00, 17.44it/s]"
          }
        },
        "9963dbcaf33e469b8df993845d742e26": {
          "model_module": "@jupyter-widgets/base",
          "model_name": "LayoutModel",
          "model_module_version": "1.2.0",
          "state": {
            "_model_module": "@jupyter-widgets/base",
            "_model_module_version": "1.2.0",
            "_model_name": "LayoutModel",
            "_view_count": null,
            "_view_module": "@jupyter-widgets/base",
            "_view_module_version": "1.2.0",
            "_view_name": "LayoutView",
            "align_content": null,
            "align_items": null,
            "align_self": null,
            "border": null,
            "bottom": null,
            "display": null,
            "flex": null,
            "flex_flow": null,
            "grid_area": null,
            "grid_auto_columns": null,
            "grid_auto_flow": null,
            "grid_auto_rows": null,
            "grid_column": null,
            "grid_gap": null,
            "grid_row": null,
            "grid_template_areas": null,
            "grid_template_columns": null,
            "grid_template_rows": null,
            "height": null,
            "justify_content": null,
            "justify_items": null,
            "left": null,
            "margin": null,
            "max_height": null,
            "max_width": null,
            "min_height": null,
            "min_width": null,
            "object_fit": null,
            "object_position": null,
            "order": null,
            "overflow": null,
            "overflow_x": null,
            "overflow_y": null,
            "padding": null,
            "right": null,
            "top": null,
            "visibility": null,
            "width": null
          }
        },
        "2e609ee877b8426c87a52049482b39f1": {
          "model_module": "@jupyter-widgets/base",
          "model_name": "LayoutModel",
          "model_module_version": "1.2.0",
          "state": {
            "_model_module": "@jupyter-widgets/base",
            "_model_module_version": "1.2.0",
            "_model_name": "LayoutModel",
            "_view_count": null,
            "_view_module": "@jupyter-widgets/base",
            "_view_module_version": "1.2.0",
            "_view_name": "LayoutView",
            "align_content": null,
            "align_items": null,
            "align_self": null,
            "border": null,
            "bottom": null,
            "display": null,
            "flex": null,
            "flex_flow": null,
            "grid_area": null,
            "grid_auto_columns": null,
            "grid_auto_flow": null,
            "grid_auto_rows": null,
            "grid_column": null,
            "grid_gap": null,
            "grid_row": null,
            "grid_template_areas": null,
            "grid_template_columns": null,
            "grid_template_rows": null,
            "height": null,
            "justify_content": null,
            "justify_items": null,
            "left": null,
            "margin": null,
            "max_height": null,
            "max_width": null,
            "min_height": null,
            "min_width": null,
            "object_fit": null,
            "object_position": null,
            "order": null,
            "overflow": null,
            "overflow_x": null,
            "overflow_y": null,
            "padding": null,
            "right": null,
            "top": null,
            "visibility": null,
            "width": null
          }
        },
        "153d10441482456bbdf0909d22859abe": {
          "model_module": "@jupyter-widgets/controls",
          "model_name": "DescriptionStyleModel",
          "model_module_version": "1.5.0",
          "state": {
            "_model_module": "@jupyter-widgets/controls",
            "_model_module_version": "1.5.0",
            "_model_name": "DescriptionStyleModel",
            "_view_count": null,
            "_view_module": "@jupyter-widgets/base",
            "_view_module_version": "1.2.0",
            "_view_name": "StyleView",
            "description_width": ""
          }
        },
        "46dc29fadecb42f2852484918ae44dc6": {
          "model_module": "@jupyter-widgets/base",
          "model_name": "LayoutModel",
          "model_module_version": "1.2.0",
          "state": {
            "_model_module": "@jupyter-widgets/base",
            "_model_module_version": "1.2.0",
            "_model_name": "LayoutModel",
            "_view_count": null,
            "_view_module": "@jupyter-widgets/base",
            "_view_module_version": "1.2.0",
            "_view_name": "LayoutView",
            "align_content": null,
            "align_items": null,
            "align_self": null,
            "border": null,
            "bottom": null,
            "display": null,
            "flex": null,
            "flex_flow": null,
            "grid_area": null,
            "grid_auto_columns": null,
            "grid_auto_flow": null,
            "grid_auto_rows": null,
            "grid_column": null,
            "grid_gap": null,
            "grid_row": null,
            "grid_template_areas": null,
            "grid_template_columns": null,
            "grid_template_rows": null,
            "height": null,
            "justify_content": null,
            "justify_items": null,
            "left": null,
            "margin": null,
            "max_height": null,
            "max_width": null,
            "min_height": null,
            "min_width": null,
            "object_fit": null,
            "object_position": null,
            "order": null,
            "overflow": null,
            "overflow_x": null,
            "overflow_y": null,
            "padding": null,
            "right": null,
            "top": null,
            "visibility": null,
            "width": null
          }
        },
        "f327c67b75964331b94beac6346b1d30": {
          "model_module": "@jupyter-widgets/controls",
          "model_name": "ProgressStyleModel",
          "model_module_version": "1.5.0",
          "state": {
            "_model_module": "@jupyter-widgets/controls",
            "_model_module_version": "1.5.0",
            "_model_name": "ProgressStyleModel",
            "_view_count": null,
            "_view_module": "@jupyter-widgets/base",
            "_view_module_version": "1.2.0",
            "_view_name": "StyleView",
            "bar_color": null,
            "description_width": ""
          }
        },
        "089f5cba63294c4ea9d0c633e4659324": {
          "model_module": "@jupyter-widgets/base",
          "model_name": "LayoutModel",
          "model_module_version": "1.2.0",
          "state": {
            "_model_module": "@jupyter-widgets/base",
            "_model_module_version": "1.2.0",
            "_model_name": "LayoutModel",
            "_view_count": null,
            "_view_module": "@jupyter-widgets/base",
            "_view_module_version": "1.2.0",
            "_view_name": "LayoutView",
            "align_content": null,
            "align_items": null,
            "align_self": null,
            "border": null,
            "bottom": null,
            "display": null,
            "flex": null,
            "flex_flow": null,
            "grid_area": null,
            "grid_auto_columns": null,
            "grid_auto_flow": null,
            "grid_auto_rows": null,
            "grid_column": null,
            "grid_gap": null,
            "grid_row": null,
            "grid_template_areas": null,
            "grid_template_columns": null,
            "grid_template_rows": null,
            "height": null,
            "justify_content": null,
            "justify_items": null,
            "left": null,
            "margin": null,
            "max_height": null,
            "max_width": null,
            "min_height": null,
            "min_width": null,
            "object_fit": null,
            "object_position": null,
            "order": null,
            "overflow": null,
            "overflow_x": null,
            "overflow_y": null,
            "padding": null,
            "right": null,
            "top": null,
            "visibility": null,
            "width": null
          }
        },
        "eb0d41e03c814dde8f2ab753778e9017": {
          "model_module": "@jupyter-widgets/controls",
          "model_name": "DescriptionStyleModel",
          "model_module_version": "1.5.0",
          "state": {
            "_model_module": "@jupyter-widgets/controls",
            "_model_module_version": "1.5.0",
            "_model_name": "DescriptionStyleModel",
            "_view_count": null,
            "_view_module": "@jupyter-widgets/base",
            "_view_module_version": "1.2.0",
            "_view_name": "StyleView",
            "description_width": ""
          }
        }
      }
    }
  },
  "cells": [
    {
      "cell_type": "code",
      "source": [
        "from google.colab import drive\n",
        "drive.mount('/content/drive')"
      ],
      "metadata": {
        "id": "LIt6TP1hvshK"
      },
      "execution_count": null,
      "outputs": []
    },
    {
      "cell_type": "code",
      "source": [
        "# necessary file installation details\n",
        "!pip install datasets"
      ],
      "metadata": {
        "id": "_VqtO72teXKT",
        "colab": {
          "base_uri": "https://localhost:8080/"
        },
        "outputId": "6d7d0623-f8db-4310-d073-6263a85f3194"
      },
      "execution_count": null,
      "outputs": [
        {
          "output_type": "stream",
          "name": "stdout",
          "text": [
            "Collecting datasets\n",
            "  Downloading datasets-2.19.0-py3-none-any.whl (542 kB)\n",
            "\u001b[2K     \u001b[90m━━━━━━━━━━━━━━━━━━━━━━━━━━━━━━━━━━━━━━━━\u001b[0m \u001b[32m542.0/542.0 kB\u001b[0m \u001b[31m3.9 MB/s\u001b[0m eta \u001b[36m0:00:00\u001b[0m\n",
            "\u001b[?25hRequirement already satisfied: filelock in /usr/local/lib/python3.10/dist-packages (from datasets) (3.13.4)\n",
            "Requirement already satisfied: numpy>=1.17 in /usr/local/lib/python3.10/dist-packages (from datasets) (1.25.2)\n",
            "Requirement already satisfied: pyarrow>=12.0.0 in /usr/local/lib/python3.10/dist-packages (from datasets) (14.0.2)\n",
            "Requirement already satisfied: pyarrow-hotfix in /usr/local/lib/python3.10/dist-packages (from datasets) (0.6)\n",
            "Collecting dill<0.3.9,>=0.3.0 (from datasets)\n",
            "  Downloading dill-0.3.8-py3-none-any.whl (116 kB)\n",
            "\u001b[2K     \u001b[90m━━━━━━━━━━━━━━━━━━━━━━━━━━━━━━━━━━━━━━━━\u001b[0m \u001b[32m116.3/116.3 kB\u001b[0m \u001b[31m11.3 MB/s\u001b[0m eta \u001b[36m0:00:00\u001b[0m\n",
            "\u001b[?25hRequirement already satisfied: pandas in /usr/local/lib/python3.10/dist-packages (from datasets) (2.0.3)\n",
            "Requirement already satisfied: requests>=2.19.0 in /usr/local/lib/python3.10/dist-packages (from datasets) (2.31.0)\n",
            "Requirement already satisfied: tqdm>=4.62.1 in /usr/local/lib/python3.10/dist-packages (from datasets) (4.66.2)\n",
            "Collecting xxhash (from datasets)\n",
            "  Downloading xxhash-3.4.1-cp310-cp310-manylinux_2_17_x86_64.manylinux2014_x86_64.whl (194 kB)\n",
            "\u001b[2K     \u001b[90m━━━━━━━━━━━━━━━━━━━━━━━━━━━━━━━━━━━━━━━━\u001b[0m \u001b[32m194.1/194.1 kB\u001b[0m \u001b[31m7.9 MB/s\u001b[0m eta \u001b[36m0:00:00\u001b[0m\n",
            "\u001b[?25hCollecting multiprocess (from datasets)\n",
            "  Downloading multiprocess-0.70.16-py310-none-any.whl (134 kB)\n",
            "\u001b[2K     \u001b[90m━━━━━━━━━━━━━━━━━━━━━━━━━━━━━━━━━━━━━━━━\u001b[0m \u001b[32m134.8/134.8 kB\u001b[0m \u001b[31m11.4 MB/s\u001b[0m eta \u001b[36m0:00:00\u001b[0m\n",
            "\u001b[?25hRequirement already satisfied: fsspec[http]<=2024.3.1,>=2023.1.0 in /usr/local/lib/python3.10/dist-packages (from datasets) (2023.6.0)\n",
            "Requirement already satisfied: aiohttp in /usr/local/lib/python3.10/dist-packages (from datasets) (3.9.5)\n",
            "Collecting huggingface-hub>=0.21.2 (from datasets)\n",
            "  Downloading huggingface_hub-0.22.2-py3-none-any.whl (388 kB)\n",
            "\u001b[2K     \u001b[90m━━━━━━━━━━━━━━━━━━━━━━━━━━━━━━━━━━━━━━━━\u001b[0m \u001b[32m388.9/388.9 kB\u001b[0m \u001b[31m23.1 MB/s\u001b[0m eta \u001b[36m0:00:00\u001b[0m\n",
            "\u001b[?25hRequirement already satisfied: packaging in /usr/local/lib/python3.10/dist-packages (from datasets) (24.0)\n",
            "Requirement already satisfied: pyyaml>=5.1 in /usr/local/lib/python3.10/dist-packages (from datasets) (6.0.1)\n",
            "Requirement already satisfied: aiosignal>=1.1.2 in /usr/local/lib/python3.10/dist-packages (from aiohttp->datasets) (1.3.1)\n",
            "Requirement already satisfied: attrs>=17.3.0 in /usr/local/lib/python3.10/dist-packages (from aiohttp->datasets) (23.2.0)\n",
            "Requirement already satisfied: frozenlist>=1.1.1 in /usr/local/lib/python3.10/dist-packages (from aiohttp->datasets) (1.4.1)\n",
            "Requirement already satisfied: multidict<7.0,>=4.5 in /usr/local/lib/python3.10/dist-packages (from aiohttp->datasets) (6.0.5)\n",
            "Requirement already satisfied: yarl<2.0,>=1.0 in /usr/local/lib/python3.10/dist-packages (from aiohttp->datasets) (1.9.4)\n",
            "Requirement already satisfied: async-timeout<5.0,>=4.0 in /usr/local/lib/python3.10/dist-packages (from aiohttp->datasets) (4.0.3)\n",
            "Requirement already satisfied: typing-extensions>=3.7.4.3 in /usr/local/lib/python3.10/dist-packages (from huggingface-hub>=0.21.2->datasets) (4.11.0)\n",
            "Requirement already satisfied: charset-normalizer<4,>=2 in /usr/local/lib/python3.10/dist-packages (from requests>=2.19.0->datasets) (3.3.2)\n",
            "Requirement already satisfied: idna<4,>=2.5 in /usr/local/lib/python3.10/dist-packages (from requests>=2.19.0->datasets) (3.7)\n",
            "Requirement already satisfied: urllib3<3,>=1.21.1 in /usr/local/lib/python3.10/dist-packages (from requests>=2.19.0->datasets) (2.0.7)\n",
            "Requirement already satisfied: certifi>=2017.4.17 in /usr/local/lib/python3.10/dist-packages (from requests>=2.19.0->datasets) (2024.2.2)\n",
            "Requirement already satisfied: python-dateutil>=2.8.2 in /usr/local/lib/python3.10/dist-packages (from pandas->datasets) (2.8.2)\n",
            "Requirement already satisfied: pytz>=2020.1 in /usr/local/lib/python3.10/dist-packages (from pandas->datasets) (2023.4)\n",
            "Requirement already satisfied: tzdata>=2022.1 in /usr/local/lib/python3.10/dist-packages (from pandas->datasets) (2024.1)\n",
            "Requirement already satisfied: six>=1.5 in /usr/local/lib/python3.10/dist-packages (from python-dateutil>=2.8.2->pandas->datasets) (1.16.0)\n",
            "Installing collected packages: xxhash, dill, multiprocess, huggingface-hub, datasets\n",
            "  Attempting uninstall: huggingface-hub\n",
            "    Found existing installation: huggingface-hub 0.20.3\n",
            "    Uninstalling huggingface-hub-0.20.3:\n",
            "      Successfully uninstalled huggingface-hub-0.20.3\n",
            "Successfully installed datasets-2.19.0 dill-0.3.8 huggingface-hub-0.22.2 multiprocess-0.70.16 xxhash-3.4.1\n"
          ]
        }
      ]
    },
    {
      "cell_type": "code",
      "source": [
        "!pip install -U sentence-transformers"
      ],
      "metadata": {
        "id": "GQUkaNPgesT3",
        "colab": {
          "base_uri": "https://localhost:8080/"
        },
        "outputId": "07b6c2a5-519f-4cd3-fcad-aff3e3987cbf"
      },
      "execution_count": null,
      "outputs": [
        {
          "output_type": "stream",
          "name": "stdout",
          "text": [
            "Collecting sentence-transformers\n",
            "  Downloading sentence_transformers-2.7.0-py3-none-any.whl (171 kB)\n",
            "\u001b[2K     \u001b[90m━━━━━━━━━━━━━━━━━━━━━━━━━━━━━━━━━━━━━━━━\u001b[0m \u001b[32m171.5/171.5 kB\u001b[0m \u001b[31m2.0 MB/s\u001b[0m eta \u001b[36m0:00:00\u001b[0m\n",
            "\u001b[?25hRequirement already satisfied: transformers<5.0.0,>=4.34.0 in /usr/local/lib/python3.10/dist-packages (from sentence-transformers) (4.40.0)\n",
            "Requirement already satisfied: tqdm in /usr/local/lib/python3.10/dist-packages (from sentence-transformers) (4.66.2)\n",
            "Requirement already satisfied: torch>=1.11.0 in /usr/local/lib/python3.10/dist-packages (from sentence-transformers) (2.2.1+cu121)\n",
            "Requirement already satisfied: numpy in /usr/local/lib/python3.10/dist-packages (from sentence-transformers) (1.25.2)\n",
            "Requirement already satisfied: scikit-learn in /usr/local/lib/python3.10/dist-packages (from sentence-transformers) (1.2.2)\n",
            "Requirement already satisfied: scipy in /usr/local/lib/python3.10/dist-packages (from sentence-transformers) (1.11.4)\n",
            "Requirement already satisfied: huggingface-hub>=0.15.1 in /usr/local/lib/python3.10/dist-packages (from sentence-transformers) (0.22.2)\n",
            "Requirement already satisfied: Pillow in /usr/local/lib/python3.10/dist-packages (from sentence-transformers) (9.4.0)\n",
            "Requirement already satisfied: filelock in /usr/local/lib/python3.10/dist-packages (from huggingface-hub>=0.15.1->sentence-transformers) (3.13.4)\n",
            "Requirement already satisfied: fsspec>=2023.5.0 in /usr/local/lib/python3.10/dist-packages (from huggingface-hub>=0.15.1->sentence-transformers) (2023.6.0)\n",
            "Requirement already satisfied: packaging>=20.9 in /usr/local/lib/python3.10/dist-packages (from huggingface-hub>=0.15.1->sentence-transformers) (24.0)\n",
            "Requirement already satisfied: pyyaml>=5.1 in /usr/local/lib/python3.10/dist-packages (from huggingface-hub>=0.15.1->sentence-transformers) (6.0.1)\n",
            "Requirement already satisfied: requests in /usr/local/lib/python3.10/dist-packages (from huggingface-hub>=0.15.1->sentence-transformers) (2.31.0)\n",
            "Requirement already satisfied: typing-extensions>=3.7.4.3 in /usr/local/lib/python3.10/dist-packages (from huggingface-hub>=0.15.1->sentence-transformers) (4.11.0)\n",
            "Requirement already satisfied: sympy in /usr/local/lib/python3.10/dist-packages (from torch>=1.11.0->sentence-transformers) (1.12)\n",
            "Requirement already satisfied: networkx in /usr/local/lib/python3.10/dist-packages (from torch>=1.11.0->sentence-transformers) (3.3)\n",
            "Requirement already satisfied: jinja2 in /usr/local/lib/python3.10/dist-packages (from torch>=1.11.0->sentence-transformers) (3.1.3)\n",
            "Collecting nvidia-cuda-nvrtc-cu12==12.1.105 (from torch>=1.11.0->sentence-transformers)\n",
            "  Using cached nvidia_cuda_nvrtc_cu12-12.1.105-py3-none-manylinux1_x86_64.whl (23.7 MB)\n",
            "Collecting nvidia-cuda-runtime-cu12==12.1.105 (from torch>=1.11.0->sentence-transformers)\n",
            "  Using cached nvidia_cuda_runtime_cu12-12.1.105-py3-none-manylinux1_x86_64.whl (823 kB)\n",
            "Collecting nvidia-cuda-cupti-cu12==12.1.105 (from torch>=1.11.0->sentence-transformers)\n",
            "  Using cached nvidia_cuda_cupti_cu12-12.1.105-py3-none-manylinux1_x86_64.whl (14.1 MB)\n",
            "Collecting nvidia-cudnn-cu12==8.9.2.26 (from torch>=1.11.0->sentence-transformers)\n",
            "  Using cached nvidia_cudnn_cu12-8.9.2.26-py3-none-manylinux1_x86_64.whl (731.7 MB)\n",
            "Collecting nvidia-cublas-cu12==12.1.3.1 (from torch>=1.11.0->sentence-transformers)\n",
            "  Using cached nvidia_cublas_cu12-12.1.3.1-py3-none-manylinux1_x86_64.whl (410.6 MB)\n",
            "Collecting nvidia-cufft-cu12==11.0.2.54 (from torch>=1.11.0->sentence-transformers)\n",
            "  Using cached nvidia_cufft_cu12-11.0.2.54-py3-none-manylinux1_x86_64.whl (121.6 MB)\n",
            "Collecting nvidia-curand-cu12==10.3.2.106 (from torch>=1.11.0->sentence-transformers)\n",
            "  Using cached nvidia_curand_cu12-10.3.2.106-py3-none-manylinux1_x86_64.whl (56.5 MB)\n",
            "Collecting nvidia-cusolver-cu12==11.4.5.107 (from torch>=1.11.0->sentence-transformers)\n",
            "  Using cached nvidia_cusolver_cu12-11.4.5.107-py3-none-manylinux1_x86_64.whl (124.2 MB)\n",
            "Collecting nvidia-cusparse-cu12==12.1.0.106 (from torch>=1.11.0->sentence-transformers)\n",
            "  Using cached nvidia_cusparse_cu12-12.1.0.106-py3-none-manylinux1_x86_64.whl (196.0 MB)\n",
            "Collecting nvidia-nccl-cu12==2.19.3 (from torch>=1.11.0->sentence-transformers)\n",
            "  Using cached nvidia_nccl_cu12-2.19.3-py3-none-manylinux1_x86_64.whl (166.0 MB)\n",
            "Collecting nvidia-nvtx-cu12==12.1.105 (from torch>=1.11.0->sentence-transformers)\n",
            "  Using cached nvidia_nvtx_cu12-12.1.105-py3-none-manylinux1_x86_64.whl (99 kB)\n",
            "Requirement already satisfied: triton==2.2.0 in /usr/local/lib/python3.10/dist-packages (from torch>=1.11.0->sentence-transformers) (2.2.0)\n",
            "Collecting nvidia-nvjitlink-cu12 (from nvidia-cusolver-cu12==11.4.5.107->torch>=1.11.0->sentence-transformers)\n",
            "  Using cached nvidia_nvjitlink_cu12-12.4.127-py3-none-manylinux2014_x86_64.whl (21.1 MB)\n",
            "Requirement already satisfied: regex!=2019.12.17 in /usr/local/lib/python3.10/dist-packages (from transformers<5.0.0,>=4.34.0->sentence-transformers) (2023.12.25)\n",
            "Requirement already satisfied: tokenizers<0.20,>=0.19 in /usr/local/lib/python3.10/dist-packages (from transformers<5.0.0,>=4.34.0->sentence-transformers) (0.19.1)\n",
            "Requirement already satisfied: safetensors>=0.4.1 in /usr/local/lib/python3.10/dist-packages (from transformers<5.0.0,>=4.34.0->sentence-transformers) (0.4.3)\n",
            "Requirement already satisfied: joblib>=1.1.1 in /usr/local/lib/python3.10/dist-packages (from scikit-learn->sentence-transformers) (1.4.0)\n",
            "Requirement already satisfied: threadpoolctl>=2.0.0 in /usr/local/lib/python3.10/dist-packages (from scikit-learn->sentence-transformers) (3.4.0)\n",
            "Requirement already satisfied: MarkupSafe>=2.0 in /usr/local/lib/python3.10/dist-packages (from jinja2->torch>=1.11.0->sentence-transformers) (2.1.5)\n",
            "Requirement already satisfied: charset-normalizer<4,>=2 in /usr/local/lib/python3.10/dist-packages (from requests->huggingface-hub>=0.15.1->sentence-transformers) (3.3.2)\n",
            "Requirement already satisfied: idna<4,>=2.5 in /usr/local/lib/python3.10/dist-packages (from requests->huggingface-hub>=0.15.1->sentence-transformers) (3.7)\n",
            "Requirement already satisfied: urllib3<3,>=1.21.1 in /usr/local/lib/python3.10/dist-packages (from requests->huggingface-hub>=0.15.1->sentence-transformers) (2.0.7)\n",
            "Requirement already satisfied: certifi>=2017.4.17 in /usr/local/lib/python3.10/dist-packages (from requests->huggingface-hub>=0.15.1->sentence-transformers) (2024.2.2)\n",
            "Requirement already satisfied: mpmath>=0.19 in /usr/local/lib/python3.10/dist-packages (from sympy->torch>=1.11.0->sentence-transformers) (1.3.0)\n",
            "Installing collected packages: nvidia-nvtx-cu12, nvidia-nvjitlink-cu12, nvidia-nccl-cu12, nvidia-curand-cu12, nvidia-cufft-cu12, nvidia-cuda-runtime-cu12, nvidia-cuda-nvrtc-cu12, nvidia-cuda-cupti-cu12, nvidia-cublas-cu12, nvidia-cusparse-cu12, nvidia-cudnn-cu12, nvidia-cusolver-cu12, sentence-transformers\n",
            "Successfully installed nvidia-cublas-cu12-12.1.3.1 nvidia-cuda-cupti-cu12-12.1.105 nvidia-cuda-nvrtc-cu12-12.1.105 nvidia-cuda-runtime-cu12-12.1.105 nvidia-cudnn-cu12-8.9.2.26 nvidia-cufft-cu12-11.0.2.54 nvidia-curand-cu12-10.3.2.106 nvidia-cusolver-cu12-11.4.5.107 nvidia-cusparse-cu12-12.1.0.106 nvidia-nccl-cu12-2.19.3 nvidia-nvjitlink-cu12-12.4.127 nvidia-nvtx-cu12-12.1.105 sentence-transformers-2.7.0\n"
          ]
        }
      ]
    },
    {
      "cell_type": "code",
      "execution_count": null,
      "metadata": {
        "id": "ryQlBn7JcmNP"
      },
      "outputs": [],
      "source": [
        "# Import required libraries\n",
        "from datasets import load_dataset\n",
        "from sentence_transformers import SentenceTransformer, util\n",
        "import torch\n",
        "import pandas as pd"
      ]
    },
    {
      "cell_type": "code",
      "source": [
        "# Load the multi_news dataset from Hugging Face and take only the 'test' split for efficiency\n",
        "dataset = pd.read_csv('/content/drive/MyDrive/covid_abstracts.csv')\n",
        "\n",
        "# Convert the test dataset to a pandas DataFrame and take only 2000 random samples\n",
        "df.head()"
      ],
      "metadata": {
        "colab": {
          "base_uri": "https://localhost:8080/",
          "height": 206
        },
        "id": "E6qzbzg_eGR6",
        "outputId": "78c277e9-3924-4346-9bb4-8ed6fd8142ea"
      },
      "execution_count": null,
      "outputs": [
        {
          "output_type": "execute_result",
          "data": {
            "text/plain": [
              "                                               document  \\\n",
              "4830  Tweet with a location \\n \\n You can add locati...   \n",
              "1255  CNN host Piers Morgan just called to discuss h...   \n",
              "80    White House communications director Anthony Sc...   \n",
              "3044  CLOSE Scientists say they've found archaeologi...   \n",
              "4486  Click image above to view graphic \\n \\n Althou...   \n",
              "\n",
              "                                                summary  \n",
              "4830  – Denis Finley has taken to Twitter to call Po...  \n",
              "1255  – CNN's Piers Morgan thinks gun-rights propone...  \n",
              "80    – New White House communications director Anth...  \n",
              "3044  – Scientists say they have the first physical ...  \n",
              "4486  – Scientists are calling it a breakthrough and...  "
            ],
            "text/html": [
              "\n",
              "  <div id=\"df-6d5bec3f-9017-4588-9a57-1d863496ebab\" class=\"colab-df-container\">\n",
              "    <div>\n",
              "<style scoped>\n",
              "    .dataframe tbody tr th:only-of-type {\n",
              "        vertical-align: middle;\n",
              "    }\n",
              "\n",
              "    .dataframe tbody tr th {\n",
              "        vertical-align: top;\n",
              "    }\n",
              "\n",
              "    .dataframe thead th {\n",
              "        text-align: right;\n",
              "    }\n",
              "</style>\n",
              "<table border=\"1\" class=\"dataframe\">\n",
              "  <thead>\n",
              "    <tr style=\"text-align: right;\">\n",
              "      <th></th>\n",
              "      <th>document</th>\n",
              "      <th>summary</th>\n",
              "    </tr>\n",
              "  </thead>\n",
              "  <tbody>\n",
              "    <tr>\n",
              "      <th>4830</th>\n",
              "      <td>Tweet with a location \\n \\n You can add locati...</td>\n",
              "      <td>– Denis Finley has taken to Twitter to call Po...</td>\n",
              "    </tr>\n",
              "    <tr>\n",
              "      <th>1255</th>\n",
              "      <td>CNN host Piers Morgan just called to discuss h...</td>\n",
              "      <td>– CNN's Piers Morgan thinks gun-rights propone...</td>\n",
              "    </tr>\n",
              "    <tr>\n",
              "      <th>80</th>\n",
              "      <td>White House communications director Anthony Sc...</td>\n",
              "      <td>– New White House communications director Anth...</td>\n",
              "    </tr>\n",
              "    <tr>\n",
              "      <th>3044</th>\n",
              "      <td>CLOSE Scientists say they've found archaeologi...</td>\n",
              "      <td>– Scientists say they have the first physical ...</td>\n",
              "    </tr>\n",
              "    <tr>\n",
              "      <th>4486</th>\n",
              "      <td>Click image above to view graphic \\n \\n Althou...</td>\n",
              "      <td>– Scientists are calling it a breakthrough and...</td>\n",
              "    </tr>\n",
              "  </tbody>\n",
              "</table>\n",
              "</div>\n",
              "    <div class=\"colab-df-buttons\">\n",
              "\n",
              "  <div class=\"colab-df-container\">\n",
              "    <button class=\"colab-df-convert\" onclick=\"convertToInteractive('df-6d5bec3f-9017-4588-9a57-1d863496ebab')\"\n",
              "            title=\"Convert this dataframe to an interactive table.\"\n",
              "            style=\"display:none;\">\n",
              "\n",
              "  <svg xmlns=\"http://www.w3.org/2000/svg\" height=\"24px\" viewBox=\"0 -960 960 960\">\n",
              "    <path d=\"M120-120v-720h720v720H120Zm60-500h600v-160H180v160Zm220 220h160v-160H400v160Zm0 220h160v-160H400v160ZM180-400h160v-160H180v160Zm440 0h160v-160H620v160ZM180-180h160v-160H180v160Zm440 0h160v-160H620v160Z\"/>\n",
              "  </svg>\n",
              "    </button>\n",
              "\n",
              "  <style>\n",
              "    .colab-df-container {\n",
              "      display:flex;\n",
              "      gap: 12px;\n",
              "    }\n",
              "\n",
              "    .colab-df-convert {\n",
              "      background-color: #E8F0FE;\n",
              "      border: none;\n",
              "      border-radius: 50%;\n",
              "      cursor: pointer;\n",
              "      display: none;\n",
              "      fill: #1967D2;\n",
              "      height: 32px;\n",
              "      padding: 0 0 0 0;\n",
              "      width: 32px;\n",
              "    }\n",
              "\n",
              "    .colab-df-convert:hover {\n",
              "      background-color: #E2EBFA;\n",
              "      box-shadow: 0px 1px 2px rgba(60, 64, 67, 0.3), 0px 1px 3px 1px rgba(60, 64, 67, 0.15);\n",
              "      fill: #174EA6;\n",
              "    }\n",
              "\n",
              "    .colab-df-buttons div {\n",
              "      margin-bottom: 4px;\n",
              "    }\n",
              "\n",
              "    [theme=dark] .colab-df-convert {\n",
              "      background-color: #3B4455;\n",
              "      fill: #D2E3FC;\n",
              "    }\n",
              "\n",
              "    [theme=dark] .colab-df-convert:hover {\n",
              "      background-color: #434B5C;\n",
              "      box-shadow: 0px 1px 3px 1px rgba(0, 0, 0, 0.15);\n",
              "      filter: drop-shadow(0px 1px 2px rgba(0, 0, 0, 0.3));\n",
              "      fill: #FFFFFF;\n",
              "    }\n",
              "  </style>\n",
              "\n",
              "    <script>\n",
              "      const buttonEl =\n",
              "        document.querySelector('#df-6d5bec3f-9017-4588-9a57-1d863496ebab button.colab-df-convert');\n",
              "      buttonEl.style.display =\n",
              "        google.colab.kernel.accessAllowed ? 'block' : 'none';\n",
              "\n",
              "      async function convertToInteractive(key) {\n",
              "        const element = document.querySelector('#df-6d5bec3f-9017-4588-9a57-1d863496ebab');\n",
              "        const dataTable =\n",
              "          await google.colab.kernel.invokeFunction('convertToInteractive',\n",
              "                                                    [key], {});\n",
              "        if (!dataTable) return;\n",
              "\n",
              "        const docLinkHtml = 'Like what you see? Visit the ' +\n",
              "          '<a target=\"_blank\" href=https://colab.research.google.com/notebooks/data_table.ipynb>data table notebook</a>'\n",
              "          + ' to learn more about interactive tables.';\n",
              "        element.innerHTML = '';\n",
              "        dataTable['output_type'] = 'display_data';\n",
              "        await google.colab.output.renderOutput(dataTable, element);\n",
              "        const docLink = document.createElement('div');\n",
              "        docLink.innerHTML = docLinkHtml;\n",
              "        element.appendChild(docLink);\n",
              "      }\n",
              "    </script>\n",
              "  </div>\n",
              "\n",
              "\n",
              "<div id=\"df-7d6ea341-1010-42bb-9101-76186ce60942\">\n",
              "  <button class=\"colab-df-quickchart\" onclick=\"quickchart('df-7d6ea341-1010-42bb-9101-76186ce60942')\"\n",
              "            title=\"Suggest charts\"\n",
              "            style=\"display:none;\">\n",
              "\n",
              "<svg xmlns=\"http://www.w3.org/2000/svg\" height=\"24px\"viewBox=\"0 0 24 24\"\n",
              "     width=\"24px\">\n",
              "    <g>\n",
              "        <path d=\"M19 3H5c-1.1 0-2 .9-2 2v14c0 1.1.9 2 2 2h14c1.1 0 2-.9 2-2V5c0-1.1-.9-2-2-2zM9 17H7v-7h2v7zm4 0h-2V7h2v10zm4 0h-2v-4h2v4z\"/>\n",
              "    </g>\n",
              "</svg>\n",
              "  </button>\n",
              "\n",
              "<style>\n",
              "  .colab-df-quickchart {\n",
              "      --bg-color: #E8F0FE;\n",
              "      --fill-color: #1967D2;\n",
              "      --hover-bg-color: #E2EBFA;\n",
              "      --hover-fill-color: #174EA6;\n",
              "      --disabled-fill-color: #AAA;\n",
              "      --disabled-bg-color: #DDD;\n",
              "  }\n",
              "\n",
              "  [theme=dark] .colab-df-quickchart {\n",
              "      --bg-color: #3B4455;\n",
              "      --fill-color: #D2E3FC;\n",
              "      --hover-bg-color: #434B5C;\n",
              "      --hover-fill-color: #FFFFFF;\n",
              "      --disabled-bg-color: #3B4455;\n",
              "      --disabled-fill-color: #666;\n",
              "  }\n",
              "\n",
              "  .colab-df-quickchart {\n",
              "    background-color: var(--bg-color);\n",
              "    border: none;\n",
              "    border-radius: 50%;\n",
              "    cursor: pointer;\n",
              "    display: none;\n",
              "    fill: var(--fill-color);\n",
              "    height: 32px;\n",
              "    padding: 0;\n",
              "    width: 32px;\n",
              "  }\n",
              "\n",
              "  .colab-df-quickchart:hover {\n",
              "    background-color: var(--hover-bg-color);\n",
              "    box-shadow: 0 1px 2px rgba(60, 64, 67, 0.3), 0 1px 3px 1px rgba(60, 64, 67, 0.15);\n",
              "    fill: var(--button-hover-fill-color);\n",
              "  }\n",
              "\n",
              "  .colab-df-quickchart-complete:disabled,\n",
              "  .colab-df-quickchart-complete:disabled:hover {\n",
              "    background-color: var(--disabled-bg-color);\n",
              "    fill: var(--disabled-fill-color);\n",
              "    box-shadow: none;\n",
              "  }\n",
              "\n",
              "  .colab-df-spinner {\n",
              "    border: 2px solid var(--fill-color);\n",
              "    border-color: transparent;\n",
              "    border-bottom-color: var(--fill-color);\n",
              "    animation:\n",
              "      spin 1s steps(1) infinite;\n",
              "  }\n",
              "\n",
              "  @keyframes spin {\n",
              "    0% {\n",
              "      border-color: transparent;\n",
              "      border-bottom-color: var(--fill-color);\n",
              "      border-left-color: var(--fill-color);\n",
              "    }\n",
              "    20% {\n",
              "      border-color: transparent;\n",
              "      border-left-color: var(--fill-color);\n",
              "      border-top-color: var(--fill-color);\n",
              "    }\n",
              "    30% {\n",
              "      border-color: transparent;\n",
              "      border-left-color: var(--fill-color);\n",
              "      border-top-color: var(--fill-color);\n",
              "      border-right-color: var(--fill-color);\n",
              "    }\n",
              "    40% {\n",
              "      border-color: transparent;\n",
              "      border-right-color: var(--fill-color);\n",
              "      border-top-color: var(--fill-color);\n",
              "    }\n",
              "    60% {\n",
              "      border-color: transparent;\n",
              "      border-right-color: var(--fill-color);\n",
              "    }\n",
              "    80% {\n",
              "      border-color: transparent;\n",
              "      border-right-color: var(--fill-color);\n",
              "      border-bottom-color: var(--fill-color);\n",
              "    }\n",
              "    90% {\n",
              "      border-color: transparent;\n",
              "      border-bottom-color: var(--fill-color);\n",
              "    }\n",
              "  }\n",
              "</style>\n",
              "\n",
              "  <script>\n",
              "    async function quickchart(key) {\n",
              "      const quickchartButtonEl =\n",
              "        document.querySelector('#' + key + ' button');\n",
              "      quickchartButtonEl.disabled = true;  // To prevent multiple clicks.\n",
              "      quickchartButtonEl.classList.add('colab-df-spinner');\n",
              "      try {\n",
              "        const charts = await google.colab.kernel.invokeFunction(\n",
              "            'suggestCharts', [key], {});\n",
              "      } catch (error) {\n",
              "        console.error('Error during call to suggestCharts:', error);\n",
              "      }\n",
              "      quickchartButtonEl.classList.remove('colab-df-spinner');\n",
              "      quickchartButtonEl.classList.add('colab-df-quickchart-complete');\n",
              "    }\n",
              "    (() => {\n",
              "      let quickchartButtonEl =\n",
              "        document.querySelector('#df-7d6ea341-1010-42bb-9101-76186ce60942 button');\n",
              "      quickchartButtonEl.style.display =\n",
              "        google.colab.kernel.accessAllowed ? 'block' : 'none';\n",
              "    })();\n",
              "  </script>\n",
              "</div>\n",
              "    </div>\n",
              "  </div>\n"
            ],
            "application/vnd.google.colaboratory.intrinsic+json": {
              "type": "dataframe",
              "variable_name": "df",
              "summary": "{\n  \"name\": \"df\",\n  \"rows\": 2000,\n  \"fields\": [\n    {\n      \"column\": \"document\",\n      \"properties\": {\n        \"dtype\": \"string\",\n        \"num_unique_values\": 2000,\n        \"samples\": [\n          \"The home in the 1200 block of Blanchard Ave in East Price Hill where a man shot and killed his 14-year-old son. (Photo: Patrick Brennan) \\n \\n It was a call that can only be described as wrenching. \\n \\n \\\"I just shot my son by accident,\\\" a distraught father sobbed to a Cincinnati police 911 operator. \\n \\n \\\"Oh God. Get here quick.\\\" \\n \\n \\\"Please hurry.\\\" \\n \\n The man, believing his 14-year-old son was at school, fatally shot the boy in the neck when he mistook him for an intruder at their East Price Hill home Tuesday morning. \\n \\n Police say they are investigating the shooting. \\n \\n The shooting at 1216 Blanchard Ave. occurred around 6:30 a.m. The father, whose name has not been released, had recently dropped his son, Georta Mack, off at the school bus stop but the teen returned home, police said. \\n \\n After hearing a noise in the basement, the father grabbed a handgun to investigate. Georta startled the man, according to the frantic 911 call, and was accidentally shot in the neck. \\n \\n Throughout the call Georta's father begs police to hurry, asking God why this has happened. He tells police his son is struggling to breathe as he held a cloth to his neck to slow the bleeding. \\n \\n Shortly after, he exclaimed that his son stopped breathing. \\n \\n Georta was taken to Cincinnati Children's Hospital Medical Center. Shortly after 8:15 a.m., the boy was pronounced dead at Children's Hospital. \\n \\n Police Lt. Steve Saunders says the father is being interviewed by police and has been cooperative. \\n \\n A father mistook his 14-year-old son for an intruder and shot him in the neck, killing him, at a East Price Hill home on Tuesday morning, according to Cincinnati police. \\n \\n Neighbors were seen crying as they shared the news of the shooting on snow-covered Blanchard Avenue hours later. \\n \\n \\\"He's only 14 years old,\\\" one woman said through tears. \\n \\n Neighbors said Georta lived in the home with his 73-year-old father. They said the two seemed to get along well. \\n \\n Angela Roberts, who has lived in the neighborhood in a friend's home there for about a year, said Georta was a \\\"good kid,'' who would often mow her friend's lawn and help with yard work. \\n \\n \\\"From everything I knew, he was a pretty good kid.\\\" \\n \\n Cincinnati Police Chief Eliot Isaac called the shooting a \\\"terrible, terrible tragedy'' at a press conference Tuesday. \\\"It's unimaginable really.'' \\n \\n \\u200b Isaac said the father told police the teen returned home to skip school. Isaac said the teen had some recent trouble at school but did not elaborate. \\n \\n Isaac said that while owning a gun is an individual choice, that gun owners should be responsible, prepared and well-trained. He also said the everyone in the home should be aware that guns are kept in the home. \\n \\n Officers were discussing the case with the Hamilton County Prosecutor's office. Isaac said he did not know if the father would be charged in the case. \\n \\n Read or Share this story: http://cin.ci/1P6McK1 ||||| CINCINNATI (AP) \\u2014 Police in Cincinnati say a man has fatally shot his 14-year-old son in their home, thinking he was an intruder. \\n \\n Police say the man thought his son had caught the bus for school Tuesday morning, but the teen returned home soon afterward. Police say the man heard a noise in the basement and checked on it with a gun in his hand. Police say the father fired after apparently being startled, hitting the boy in the neck. \\n \\n Authorities say the father called 911 and the boy was taken to Cincinnati Children's Hospital Medical Center, where he died Tuesday morning. \\n \\n Police Lt. Steve Saunders says the father is being interviewed by police and has been cooperative. \\n \\n No names were released immediately.\",\n          \"It's shaping up to be a pretty ugly day for Bitcoin. \\n \\n After soaring past $250 earlier, it's tumbled all the way down to current levels around $150. \\n \\n Bitcoin is now 44 percent off its intraday high of $266. \\n \\n At its low of the day ($105), it had lost 61 percent of its value from the peak. \\n \\n The chart below shows Bitcoin prices from April 9 through today. \\n \\n bitcoin.clarkmoody.com \\n \\n The virtual currency briefly staged a sizeable comeback this afternoon before getting slammed again. \\n \\n The biggest question everyone has had about Bitcoin in recent weeks - aside from how it works - is whether or not it's in a bubble. \\n \\n After all, the virtual currency has seen a remarkable rise since January, when it was trading below $15. \\n \\n Already this afternoon, since the plunge began, we've seen some interesting defenses of the virtual currency popping up on the Internet. \\n \\n A Reddit user posted a graphic showing the Spartans' shields from the movie 300 redesigned as Bitcoins with the word HOLD! across the top. \\n \\n Another Reddit user sought to use technical analysis to explain away today's move. \\n \\n However, episodes like today's highlight the biggest problem with Bitcoin: confidence. ||||| Courtesy of Casascius/Wikimedia Commons \\n \\n Update, 3:13 p.m.: The bitcoin market is extremely volatile today, with the price ranging from a low of $120 to a high of $266. You can see the latest prices at the top of the page here. \\n \\n Let me begin this column with a lengthy disclosure. One morning last week, I stopped at my bank, filled out a withdrawal slip for $1,027.51, and walked away with an envelope full of cash. The odd amount was deliberate; I had been instructed by LocalTill to be exact in everything I did. What\\u2019s LocalTill? Don\\u2019t bother Googling it\\u2014its shady-looking website offers only murky details, explaining that the firm is a way for \\u201cmerchants to accept secure transactions when selling goods online.\\u201d It\\u2019s something like PayPal, except LocalTill isn\\u2019t tied to your bank account or credit card, and instead deals only in cash. This makes its transactions less traceable, less regulated, and, as I would soon experience, more final. \\n \\n Next, per LocalTill\\u2019s instructions, I drove to a local Bank of America branch and asked for an out-of-state wire transfer slip. I scrawled out LocalTill\\u2019s New York bank account number and handed my wad of cash to the teller. This was a dizzying moment: I\\u2019ve been on the Internet forever and have been well-schooled in frauds that begin with the instruction, \\u201cFirst, wire your money to an out-of-state account \\u2026\\u201d Yet here I was doing exactly that. If LocalTill was a scam, I\\u2019d have no recourse. So why was I willing to take such a risk? \\n \\n Bitcoin, of course. Bitcoin is a \\u201cdigital currency\\u201d invented in 2009 by a cryptographic expert who went by the pseudonym Satoshi Nakamoto, but whose true identity remains unknown. It exists only in computers, minted at a regular rate by a network of machines around the world, and its value isn\\u2019t regulated by any government. The currency, like its creator, clings to the shadows. Bitcoins are like cash in that they aren\\u2019t tied to your identity, and transactions made with bitcoins are irreversible and untraceable. But they\\u2019re like credit cards in that they aren\\u2019t physical. In the past, if I wanted to pay you for certain unmentionable services rendered, I\\u2019d have to get a fancy briefcase, fill it with bills, then take a long, dangerous trip with my stash. Bitcoin allows me to transfer money to you online, instantly, for free. As a result, it\\u2019s perfect for the black market\\u2014a couple of years ago, it became a media sensation when Gawker reported on its use as the central currency on Silk Road, a site that sold virtually any drug in the world. Lately bitcoin has also been hailed as an emerging global safe haven, a place for nervous Europeans and panicky gold-bug types to store their wealth away from the prying reach of financial regulators. \\n \\n Advertisement \\n \\n \\n \\n I\\u2019m not very panicky about the world\\u2019s currencies, nor am I looking to buy drugs online. Indeed, I don\\u2019t care at all for bitcoin as a currency. Instead, I wanted to buy bitcoins as pure, shameless speculation. I wanted a chance to ride a rocket ship. Partly due to its growing legitimacy as a currency but mainly because of speculators like me, the value of bitcoin is entering a bubble phase\\u2014its exchange rate with real-world currencies is hiking up at an incredible, likely unsustainable pace. In 2011, back when Gawker reported on Silk Road, you could buy a bitcoin for about $9. Since then the price has seen terrific fluctuations, but it has generally gone up. At the start of this year, each bitcoin was worth about $20. From there the chart turns into a hockey stick\\u2014by March, bitcoins hit $40, and within a month they\\u2019d doubled again. \\n \\n Courtesy Bitcoincharts.com. \\n \\n Three weeks ago, I began hearing about bitcoin everywhere I turned. One afternoon I had lunch with a partner at Andreessen Horowitz, the large Silicon Valley venture firm, who told me that he\\u2019d been fielding pitch after pitch for start-ups that offered bitcoin-related services. After lunch, I got an email from David Barrett, the CEO of the fantastic expense-reporting start-up Expensify. Barrett wanted to let me know that his firm would soon let people submit expenses and get paid by their employers in bitcoins. He explained that the feature wasn\\u2019t a gimmick. Bitcoin would be helpful for people who regularly submitted expenses internationally; other services\\u2014like PayPal\\u2014charge hefty fees for moving money overseas, but with bitcoin people could send money for free. \\n \\n I made a mental note to start looking into a story about bitcoin\\u2019s apparent rise to legitimacy. But before I could get started, bitcoin took over the media. Henry Blodget was calling bitcoin \\\"the perfect asset bubble.\\\" Felix Salmon published a lengthy treatise on why the bubble was sure to burst. The New Yorker spoke to some of bitcoins' leading boosters about the future of the currency. Meanwhile the price just kept going up: Early last week the value of bitcoins soared past $100 each. This week, it went past $200. If you want a bitcoin today, it will cost you about $235, and if you wait till tomorrow, it will be more. \\n \\n Hence, my disclosure. No one is quite sure why the price of bitcoins has spiked so quickly, but one of the leading theories is that it\\u2019s been hit by what Quartz\\u2019s Zach Seward calls a \\u201cdemand crisis.\\u201d The world\\u2019s supply of bitcoins is essentially fixed, but because people in the media keep talking about it, demand keeps rising. This leads to higher prices\\u2014and as prices go up, people who currently hold bitcoins develop greater and greater expectations for the currency. This causes bitcoin holders to hoard their stash, which further reduces supply, which in turn boosts the price and sparks yet more media attention\\u2014and the cycle continues until the bubble pops. \\n \\n Advertisement \\n \\n \\n \\n Thus, by writing about bitcoin, I\\u2019m serving, in some small way, to raise its price. And as of last week, that benefits me directly. Thankfully, my wire transfer to LocalTill went through; after taking its $21.51 processing fee, the firm transferred my $1,000 to Bitfloor, one of the many online bitcoin exchanges where people trade bitcoins for cash. I immediately put in a purchase order, and within seconds the deal was done. I was the proud owner of 7.23883 bitcoins, which I\\u2019d purchased for about $138 each. If I sold my coins now, my original $1,000 investment would be worth $1,700\\u2014not a bad return in less than a week\\u2019s time. \\n \\n But I\\u2019m not selling just yet. I agree with Blodget and Salmon that the bitcoin market is a bubble; at some point, as in all bubbles, prices will stop rising and they\\u2019ll likely plummet, and a lot of people will lose a lot of real and imagined money. But that\\u2019s pretty much all anyone can say about the market with any certainty. When the bubble will burst, at what price and for what reason, is completely unpredictable. And until then, while prices are going up, you could make a lot of real money from this digital funny money. \\n \\n My own guess is that the bubble\\u2019s popping isn\\u2019t imminent, and I think that when prices do fall, they\\u2019ll land somewhere higher than the $138 I paid for my bitcoins. I\\u2019m certain that I\\u2019ll be able to double my investment, and I might even hold out to triple it. (After that I\\u2019ll get shakier about keeping bitcoins.) Why do I think prices will get that high? Because at the moment, it\\u2019s a logistical nightmare to turn dollars into coins. You\\u2019ve got to take several leaps of faith, trusting sites that look like they were put together by teenagers. I initially tried to buy coins using MtGox, the largest trader, but the cash-processing service it uses refused to accept deposits greater than $500. What\\u2019s more, last week, shortly after bitcoins hit $142, MtGox was hit by a denial-of-service attack that took it offline for several hours. The site I used, Bitfloor, is hardly any safer. Last fall it was hit by an epic hack that resulted in the theft of 24,000 coins, at the time worth $250,000\\u2014and worth, amazingly, $5.6 million today.* (Bitfloor now claims to store most of its customers\\u2019 coins in machines that aren\\u2019t connected to the Internet, and it uses two-factor authentication to protect its users\\u2019 accounts.) \\n \\n At the moment, the shadiness of the bitcoin market dissuades mainstream investors. And\\u2014as we saw in the housing and dot-com bubbles\\u2014it\\u2019s when the masses get involved that bubbles really take off. Over the next few months, I expect that we\\u2019ll see better, more secure services for transferring dollars into bitcoin exchange systems. You\\u2019ll be able to send money to sites like MtGox instantly from your bank account. At that point\\u2014when ordinary people can order up bitcoins as easily as they bought shares of Pets.com back in 1999\\u2014the real money will pour into the bitcoin economy, and that\\u2019s when prices will begin to get really crazy. \\n \\n That\\u2019s just a theory. It could be a stupid one; bitcoin could collapse tomorrow. And remember, I\\u2019ve got a conflict of interest here\\u2014if this piece gets you interested in bitcoin, I get richer. Still, though, one week into my bitcoin trade, I\\u2019m very, very pleased with myself. ||||| A financial network is a technological platform that people build businesses on top of. And the traditional banking and credit card networks are closed platforms. If you want to build an e-commerce site, a payment network like Paypal, or any other service that deals in dollars, you need to convince incumbent financial institutions to do business with you. Getting such a partnership is difficult and involves a lot of red tape. \\n \\n There's a good reason for the high barrier to entry: electronic transactions in the conventional banking system are generally reversible. If someone makes a fraudulent charge to your credit card, you can dispute the transaction and in most cases the bank or the merchant, not the customer, will cover the cost. That's convenient for consumers, but it requires the financial system to be a fairly close-knit web of trust. Allowing a new member into the club creates risks for everyone else. So the incumbents are understandably reluctant to deal with anyone who isn't well-known and well-capitalized. \\n \\n Bitcoin is different. Because transactions are authenticated cryptographically and cannot be reversed, there's no need to restrict access to the network. There's no risk to accepting payments from complete strangers. That means people don't need anyone's permission or trust to go into business as a Bitcoin-based merchant or financial intermediary. Accepting Bitcoins also allows merchants to avoid much of the administrative overhead, like dealing with chargebacks, that come with a conventional merchant account. \\n \\n Of course, what looks like a plus for merchants can look more like a minus for consumers. Consumers generally like the conventional banking system's strong consumer protections. We like the fact that we're not on the hook for fraudulent banking transactions, and that the FDIC will make us whole if the bank holding our money goes bottom-up. \\n \\n And Bitcoin looks inferior to the conventional banking system in other ways too. Visa and Mastercard are accepted at millions of locations around the world. Only a handful of merchants accept Bitcoins. Conventional banks have elaborate websites with features like direct deposite of paychecks and automatic bill-paying. Dealing with Bitcoin is too intimidating for all but a tiny minority of tech-savvy enthusiasts. \\n \\n If you've read Clay Christensen's The Innovator's Dilemma, the last three paragraphs should ring a bell. The book's argument helps to explain why a seemingly inferior payment network like Bitcoin has generated so much excitement. \\n \\n The term Christensen coined, \\\"disruptive innovation,\\\" has become so overused as to become a cliche. But he gave it a fairly precise meaning with a lot of explanatory power. A disruptive technology is one that's simpler and cheaper than what's already on the market. Often, disruptive technologies are also inferior to what's already on the market. They tend to be dismissed as impractical toys by industry incumbents. \\n \\n The PC is a classic example of a disruptive innovation. The first PCs were much less capable than mini-computers and mainframes that were already on the market at the time. They had less powerful hardware and software and little if any customer support. And if you'd asked a hobbyist circa 1978 what PCs were good for, he probably wouldn't have had a good answer. \\n \\n But the low cost and simplicity of PCs meant that a lot more people could play around with them. One of those tinkerers, Dan Bricklin, invented the spreadsheet, the PC's first \\\"killer app.\\\" And over time, people gradually figured out how to use these cheap, simple computers to perform functions that had previously required a computer that cost ten times as much. Most \\\"servers\\\" today are just souped-up PCs, and they're orders of magnitude cheaper than computers that existed before 1975. \\n \\n The Bitcoin economy today looks a lot like the PC market circa 1978. Most people today look at Bitcoin and see an impractical curiosity. They're happy with the banking services they've already got and can't imagine why anyone would want to use an alternative currency that's much less widely accepted and offers many fewer consumer protections. \\n \\n But a minority of nerds are playing around with it. Interesting applications keep popping up. There are Bitcoin-based banks, casinos, drug emporia, derivatives markets, retailers, and much more. Many of the new applications seem weird or marginal, and most of them probably won't amount to anything. But one of them might prove to be Bitcoin's Visicalc. \\n \\n When people dismiss Bitcoins because they can't think of how they'd use it, they're missing the fact that Bitcoin is a platform, not a product in its own right. When ordinary users started buying computers, it wasn't because they thought it would be cool to own a computer. They did it because they wanted to do spreadsheets or word processing or email. Similarly, ordinary users aren't going to start using Bitcoins just because it's a cool technology. If normal users start using Bitcoin, it will be because they're interested in gambling, or cheap international money transfers, or some other applications that hasn't been invented yet. And Bitcoin's intermediary-free architecture means that many more people can try their hand at building the platform's killer app. \\n \\n Disclosure: I own some bitcoins. ||||| The price of the electronic currency Bitcoin continues to soar. \\n \\n Six weeks ago, Bitcoin was trading at $35. Since then, the price has continued to surge to new highs. Just this morning, Bitcoin blasted through $250. \\n \\n As is always the case with such price moves, observers have been dismissing Bitcoin as a \\\"bubble\\\" since long before prices even hit $35. \\n \\n And the observers may well be right. \\n \\n Bitcoin may be a bubble. \\n \\n Someday, Bitcoin prices may come crashing down, causing the suckers who own them then to lose their shirts. \\n \\n But, in the meantime, those who are speculating in Bitcoin are just laughing at all the people who are dismissing Bitcoin as a bubble. These speculators have made 7X their money in six weeks, which is a return that more than justifies the risk they took of potentially losing everything. (As long as the chance of each outcome is roughly the same, downside of 100% and upside of 600% is a great bet.) \\n \\n Like the assets at the center of most powerful asset bubbles, Bitcoin has sound theoretical underpinnings. The world can benefit from a convenient global electronic currency that is not subject to the whims and political incentives of governments trying to get themselves reelected. \\n \\n Importantly, Bitcoin also has a small and (at least theoretically) finite supply. So the more demand for Bitcoins increases, the more the price of Bitcoins should rise. \\n \\n Of course, as in any bubble, the more Bitcoin prices rise, the more demand there will be for Bitcoins. Bitcoin buyers may tell themselves stories about how they are buying a \\\"store of value\\\" in an inflationary world, how Bitcoin is a \\\"good investment,\\\" and so forth, but these stories will seem much less compelling if Bitcoin prices suddenly drop, say, 75%. \\n \\n If Bitcoin prices crash, all the folks who now think Bitcoin is a \\\"good investment\\\" will suddenly start crying bloody murder that they were tricked into buying something with no inherent value. And they will want to jettison their Bitcoins at any price someone will pay for them. \\n \\n (This is just the way bubble psychology works. Sorry about that.) \\n \\n In the meantime, though, Bitcoin prices could rise another 2X. Or 10X. Or 100X. \\n \\n Why? \\n \\n Because there's really just no way to figure out what a \\\"fair price\\\" for Bitcoin is. There's is theoretically a finite supply of it. And there is theoretically nearly unlimited demand for it. So there's no theoretical reason why Bitcoins can't eventually trade for $500, or $2,500, or $25,000. Or even $250,000. \\n \\n And that means that brass-balled speculators will likely continue to plow into Bitcoin, as long as think it will continue to appeal to new speculators who haven't yet entered the game. \\n \\n But! \\n \\n Because Bitcoins have no inherent value (only the value that they can be exchanged for, which is determined in large part by speculators), Bitcoin prices could crash permanently at any time. \\n \\n So it's worth thinking about what might cause Bitcoin prices to come crashing down. \\n \\n Here are some things: \\n \\n A sating of demand. At some point, everyone who could ever learn about or use Bitcoin will know about it, and many of them will own it. Given the lack of awareness about Bitcoin among the general population, as well as the complexity and \\\"friction\\\" involved in owning Bitcoin, we are a long way from this point. \\n \\n At some point, everyone who could ever learn about or use Bitcoin will know about it, and many of them will own it. Given the lack of awareness about Bitcoin among the general population, as well as the complexity and \\\"friction\\\" involved in owning Bitcoin, we are a long way from this point. A drop in the price of Bitcoin (for whatever reason). Another thing that could cause demand for Bitcoin to drop is a Bitcoin price crash. If Bitcoin prices crash, many of those who already own them will not want to own them anymore--and they'll jettison them. This will cause a further price crash, which will further reduce demand. Etc. \\n \\n Another thing that could cause demand for Bitcoin to drop is a Bitcoin price crash. If Bitcoin prices crash, many of those who already own them will not want to own them anymore--and they'll jettison them. This will cause a further price crash, which will further reduce demand. Etc. A Bitcoin counterfeiting or hacking or theft scare. Bitcoin aficionados will smugly tell you that Bitcoin \\\"can't be counterfeited.\\\" Please. Anything can be counterfeited. To counterfeit something, you don't have to create the actual thing. You just have to create something that fools other people into thinking you have the actual thing. If there's a computer system out there that can't be hacked or fooled by a very clever hacker, I haven't seen it yet. Meanwhile, even if the Bitcoins themselves can't be faked, the systems that account for them can certainly be hacked. This has already happened. And if someone figures out a way to steal or delete or otherwise destroy all your Bitcoins, you will be much less likely to invest in them. \\n \\n Bitcoin aficionados will smugly tell you that Bitcoin \\\"can't be counterfeited.\\\" Please. Anything can be counterfeited. To counterfeit something, you don't have to create the actual thing. You just have to create something that fools other people into thinking you have the actual thing. If there's a computer system out there that can't be hacked or fooled by a very clever hacker, I haven't seen it yet. Meanwhile, even if the Bitcoins themselves can't be faked, the systems that account for them can certainly be hacked. This has already happened. And if someone figures out a way to steal or delete or otherwise destroy all your Bitcoins, you will be much less likely to invest in them. A government crackdown on Bitcoins. If Bitcoin gains general acceptance, governments may begin to frown on it. After all, general acceptance of Bitcoin would usurp the governments' sole authority to create legal money. Governments don't like having their authority usurped. So they may begin to enact laws that prohibit the use of Bitcoin. \\n \\n If Bitcoin gains general acceptance, governments may begin to frown on it. After all, general acceptance of Bitcoin would usurp the governments' sole authority to create legal money. Governments don't like having their authority usurped. So they may begin to enact laws that prohibit the use of Bitcoin. An increase in the supply of Bitcoins. Bitcoin aficionados will also proudly assert that only a certain number of Bitcoins will ever exist (21 million, if memory serves) and that no more can be created. Again, keep dreaming. The supply of Bitcoins as currently defined may, in fact, be limited. But there's nothing stopping the folks who created Bitcoin (or anyone else) from creating a new equivalent or better Bitcoin. Aside from the fact that Bitcoin appears to be well designed, there is nothing special about it. \\n \\n Bitcoin aficionados will also proudly assert that only a certain number of Bitcoins will ever exist (21 million, if memory serves) and that no more can be created. Again, keep dreaming. The supply of Bitcoins as currently defined may, in fact, be limited. But there's nothing stopping the folks who created Bitcoin (or anyone else) from creating a new equivalent or better Bitcoin. Aside from the fact that Bitcoin appears to be well designed, there is nothing special about it. A better Bitcoin (or even just another Bitcoin). This is a very real risk, one that Bitcoin enthusiasts don't spend enough time worrying about. Again, there is nothing special about Bitcoin. Although awareness of it is growing, it's still complicated and hard to use. And monetary philosophers are already pointing out that the \\\"finite supply\\\" of Bitcoins may, in fact, be too small, limiting their usefulness. So if Bitcoin can gain traction, then so can any other electronic currency. And if another electronic currency begins to displace Bitcoin, the \\\"finite supply\\\" argument will go out the window. There might soon be a nearly unlimited amount of a better Bitcoin. \\n \\n All of these factors--and many others--could cause Bitcoin prices to crash. \\n \\n Bitcoin speculators would do well to remember that. \\n \\n SEE ALSO: I'm Raising My Bitcoin Price Target To $400 \\n \\n Get the latest Bitcoin price here.\",\n          \"Photo: Andres Kudacki \\n \\n Bernie Sanders was gratified, if a bit amused, to hear Barack Obama call Medicare for All a \\u201cgood new idea\\u201d in September. The idea has recently become very popular among Democratic politicians, even middle-of-the-road ones with presidential aspirations. In recent polling, 70 percent of Americans say they support it. But of course Medicare for All isn\\u2019t a new idea. It was one of the pillars of Sanders\\u2019s 2016 campaign for president. He\\u2019s been talking about a version of it for over 30 years. \\n \\n For a 77-year-old man fixated on the popularity of his ideas and his candidacy \\u2014 \\u201cHarry, have you seen my crowds?\\u201d he once asked then-Senator Harry Reid by way of a greeting in the heat of the 2016 campaign \\u2014 Sanders sometimes finds opportunities like these to enjoy his newfound influence in the Democratic Party. But mostly, he is ill at ease. He talks in private much as he does in front of a microphone, except with a lot more sarcasm. He continues to get angry at Establishment liberals, whose dismissals of how he sees the world he takes personally and judges personally. (He believes their positions and motivations can rarely be disentangled from their funding.) His frustration with the press has only grown. \\u201cYou mean inside-the-Beltway writers may have missed the point here?\\u201d he says to me recently, eyebrows up, when we sit down to talk. \\n \\n And he still thinks he should be president. He doesn\\u2019t say this out loud, exactly. \\u201cI\\u2019m not one of those sons of multimillionaires whose parents told them they were going to become president of the United States,\\u201d he says. \\u201cI don\\u2019t wake up in the morning with any burning desire that I have to be president.\\u201d Still, he\\u2019s pretty certain he\\u2019s already the country\\u2019s second-most-important politician, and the logic for running in 2020 is obvious to him: His ideas are the best for the country, a majority of Americans will agree once they\\u2019re exposed to them, no other national politician has proved to be as uncompromised or effective a messenger of his platform as he is, and no one else seems better positioned to actually win. \\u201cIf there\\u2019s somebody else who appears who can, for whatever reason, do a better job than me, I\\u2019ll work my ass off to elect him or her,\\u201d he says. But \\u201cif it turns out that I am the best candidate to beat Donald Trump, then I will probably run.\\u201d He\\u2019s been mulling the question all year as he bounds across the country. A longtime friend of Sanders\\u2019s characterizes his position as, \\u201cAt this point, what does he have to lose?\\u201d \\n \\n One plausible answer to that question: quite a lot. \\u201cIn many ways, the world has caught up with him,\\u201d says Nina Turner, a former Ohio state senator running Our Revolution, the political organization spawned from his campaign. But even some of the people close to Sanders \\u2014 all of whom agree with that assessment \\u2014 are not necessarily certain another presidential campaign is the best vehicle for his cause. \\u201cBernie is not accountable to anything,\\u201d says one longtime ally. \\u201cHe thinks it\\u2019s all about him\\u201d and not always a broader movement. \\n \\n Even the decision not to decide yet has caused anguish, both for Sanders personally and for anyone who might run against him in the primaries. He is now the dean of the American left \\u2014 the incumbent leader, as it were, of the most energized segment of the national electorate \\u2014 and everyone is watching to see how he spends the substantial political capital he has, over a four-decade career, recently accumulated. \\n \\n Sanders campaigning in Sioux City, Iowa, in October. Photo: Andres Kudacki \\n \\n One week before Trump\\u2019s inauguration, Sanders was steaming. He\\u2019d returned to Washington to fight, but he found his colleagues unable to internalize what went wrong. When 13 Senate Democrats nixed a measure to decrease drug prices through Canadian imports, he vented to USA Today that they didn\\u2019t have \\u201cthe guts\\u201d to do the right thing, promising they\\u2019d hear from him. Behind the closed doors of the Democratic caucus, the backlash from his colleagues was swift. Four of the senators who\\u2019d crossed Sanders were centrists up for reelection in states Trump had just won. They already faced pressure from their right; none could afford for Sanders to train his large and energized audience against them. For the first time, he scared them \\u2014 and this was new to him, too. The prospect of exerting this kind of power opened up new possibilities of influence but also potential pitfalls. Sanders backed down and retreated to his third-floor Senate office to iron out with advisers what, exactly, his new role should look like. \\n \\n His first step was agreeing to be more of a team player in the Senate, which meant building relationships with powerful party members. He had already accepted Minority Leader Chuck Schumer\\u2019s invitation to join the Senate leadership team. He also hired Ari Rabin-Havt, a former senior aide to Reid, and they quickly found an opportunity to persuade his colleagues to hear him out: working to protect Obama\\u2019s signature legislative accomplishment, the Affordable Care Act. Sanders had never made any secret of his dissatisfaction with the law or his preference for a single-payer health-care system. But he saw health care as the defining fight of Trump\\u2019s term and pitched Schumer on helping organize rallies that winter. He spent much of the first half of 2017 traveling to states represented by key Republican senators to rile up voters around saving the ACA. \\n \\n This, in turn, earned him enough goodwill among skeptical party figures to at least open relations. \\u201cFor a long time, Bernie believed in organizing but ran solo,\\u201d says Randi Weingarten, the head of the American Federation of Teachers, who tells me she has worked with Sanders more in the past two years than at any time in memory. With Schumer\\u2019s support, Sanders joined Democratic National Committee chairman Tom Perez for a \\u201cunity\\u201d tour, which, while rocky in its public reception, forced the pair to properly meet and interact for the first time. \\u201cThe wound that was left in the Democratic Party in 2016 is healing in the context of opposition to Trump,\\u201d says Jeff Merkley, the lone senator to endorse Sanders in the 2016 primaries. \\u201cYou finally have the Democratic Party coming back to its Roosevelt roots.\\u201d \\n \\n Meanwhile, Sanders experimented with ways to use his popularity as a cudgel against the president. When he\\u2019d first sat down to recalculate his life after the 2016 campaign, a top priority was an overhaul of his digital-media operation. He hired Armand Aviram, a former producer from NowThis News, and cameras now follow him everywhere; in 2017, the team published 550 short videos for Facebook and Twitter. They are enormously popular \\u2014 town halls streamed on Facebook can earn millions of views \\u2014 and Sanders constantly asks aides for updates on his viewership and sharing numbers. The project is substantially more ambitious than that of any other politician in Washington. (In April, aides from multiple Senate offices told me they had no idea how Sanders was doing it.) In fact, the only person in Washington who seems to care as much about building his own media ecosystem is Trump. \\n \\n It\\u2019s this audience, and the pressure it can exert, that Sanders often credits with pulling his party toward him on specific issues. \\u201cNot only Hillary Clinton, not only the Establishment media, not only every op-ed writer in America \\u2014 they said, \\u2018Bernie Sanders is crazy, these ideas are extreme, they\\u2019re fringe, nobody believes in it, this is not what America is supposed to be about,\\u2019 \\u201d he tells me, pounding his index finger on the table as he talks about the presidential-announcement speech he gave in May 2015. Now, \\u201cvirtually every one of the issues that I talked about\\u201d \\u2014 he lists basically his full campaign platform \\u2014 \\u201ctoday are mainstream, and today are supported by, in many cases, a vast majority of the American people.\\u201d He advocated curtailing the influence of superdelegates in the party\\u2019s presidential-nominating process, a change that was codified in August. And he succeeded in bending the national conversation around health care not just away from repealing Obamacare but in the direction of Medicare for All. After the first serious Republican attempt to repeal the ACA was defeated in July 2017, he started wooing colleagues to his own measure, which for years had been widely regarded within the party as unrealistically ambitious, not to mention a rebuke of Obama. He also played his outside game: One video of a Canadian doctor explaining her country\\u2019s health-care system earned more than 30 million views on Sanders\\u2019s Facebook page. When Sanders introduced his measure in the Senate that September, 16 Democrats co-sponsored it, including Cory Booker, Kirsten Gillibrand, Kamala Harris, and Elizabeth Warren. \\n \\n None of which is to say that Sanders, still an Independent, and the Democratic Establishment have altered their opinions of each other much. His advisers believe the party still doesn\\u2019t appreciate how respectfully he treated Clinton \\u2014 he never brought up her emails! \\u2014 or how useful he was in energizing young voters after the primaries. Clinton loyalists find this analysis laughable to the point of offensiveness. In Washington, there\\u2019s still no shortage of Sanders critics within the party, people who see him as a cranky narcissist with a victim complex, or an old, out-of-touch white man with few legislative accomplishments, or someone deluded into thinking his success has to do with anything other than being the alternative to Clinton. Even some activists sympathetic to Sanders see him exercising his political muscle on the health-care and tax debates and wish he\\u2019d play a bigger role in the party\\u2019s thorniest fights \\u2014 over Trump\\u2019s Muslim ban or the Dream Act, for example. \\u201cHe\\u2019s never been totally comfortable being full-throated in his opposition to Trump, although he does all of it,\\u201d one of his Senate colleagues tells me. \\u201cHe\\u2019s more comfortable making Democrats uncomfortable.\\u201d This line of argument drives Sanders crazy. \\n \\n Early this summer, Sanders celebrated the publication of his former campaign manager Jeff Weaver\\u2019s memoir of the 2016 race. The book was already controversial in Washington: It\\u2019s called How Bernie Won. In his brief remarks at the party, Sanders agreed. \\u201cIn many ways, we did win the election,\\u201d he said. Hours earlier, Justice Anthony Kennedy had announced his retirement. To pretty much every Democrat not at that book party (and to many who were there), the day was a particularly demoralizing reminder of how much they had lost. \\n \\n Bernie Sanders at the Iowa State University in Ames, Iowa, in October. Photo: Andres Kudacki \\n \\n I ask Sanders what would be different about his presidential campaign this time around, if he runs, and he laughs. \\u201cIt\\u2019s almost personally embarrassing to tell you how little we knew,\\u201d he says. Later he describes running for president as \\u201cfive Ph.D.\\u2019s wrapped up in six months.\\u201d \\n \\n In January, Sanders convened his inner circle at Rabin-Havt\\u2019s to talk through his future. Weaver and Turner were there, as were half a dozen other advisers. Sanders\\u2019s wife, Jane, dialed in. The attendees took turns presenting, explaining that if Sanders chose to run for president again, the dynamics would be significantly different \\u2014 the \\u201cBernie is just too eccentric, too untested\\u201d argument would be out the window with Trump in office, and Sanders would likely enter the primary this time as a front-runner, not an amusement. They framed the choice: If you want to focus on your legacy and influencing the party, we understand. But if you want to do this, they told him, say \\u201cGo.\\u201d The campaign couldn\\u2019t afford to be like the last one, which got off the ground only after Sanders\\u2019s then\\u2013chief strategist, Tad Devine, tired of the senator\\u2019s foot-dragging, leaked that an announcement was coming in order to force his hand. Sanders listened, told his advisers he hadn\\u2019t yet decided, and instructed them to do whatever was necessary to get him ready for \\u201cGo\\u201d in case he got there. \\n \\n And so the team mapped out a 2018 political plan that could best position him for a 2020 run. Sanders has now visited 34 states since the 2016 election, including 22 that voted for Trump. Over the 20 days before the midterms, he sprinted through 13 of them, traveling more on behalf of midterm candidates than any other likely presidential contender except Joe Biden. \\n \\n It\\u2019s not hard to see how someone in Sanders\\u2019s shoes could be a little discouraged by November\\u2019s results: The high-profile candidates he backed most vociferously, like Ben Jealous of Maryland and Randy Bryce of Wisconsin, lost. So did many of the candidates he\\u2019d backed in primaries, like Virginia\\u2019s Tom Perriello and Michigan\\u2019s Abdul El-Sayed. (He didn\\u2019t endorse Alexandria Ocasio-Cortez, the single biggest electoral success story for the Sanders wing of the party, in her primary campaign.) Our Revolution, which aimed to support progressive candidates in 2018, had a mediocre showing; though it had some down-ballot successes, it failed to flip a single House seat. There is no doubt that Sanders and his organization helped energize progressive campaigns and popularize his positions among new and incumbent candidates. But paradoxically, the results of the midterms \\u2014 the largest leftward shift in the American electorate since the aftermath of Richard Nixon\\u2019s resignation \\u2014 might have made a Sanders presidential campaign look more difficult. \\n \\n Sanders\\u2019s advisers admit that his path to the Democratic nomination mirrors Trump\\u2019s in 2016. Facing what\\u2019s likely to be a historically large field, he\\u2019s been told, Sanders could start with his most loyal supporters from last time and go for a tight plurality victory in Iowa\\u2019s caucuses, followed by a slightly bigger one in New Hampshire\\u2019s primary. From there, advisers hope, his numbers could grow as the field dwindles. \\u201cThere\\u2019s a 25 percent base of the party that isn\\u2019t going anywhere, and I think 25 percent, in a ten-person primary, is very formidable,\\u201d says a former adviser. But everyone recognizes that the strategy is tough \\u2014 \\u201cIt is the only thing you can tell yourself and draw a plausible route to the nomination,\\u201d says David Axelrod, Obama\\u2019s political architect \\u2014 and everything will depend on who emerges as considerable rivals and how they chip away at his base of support. In January, Sanders\\u2019s team reviewed the potential field with him, lingering on the possibility of Warren and Biden entering the race. (An October CNN survey showed Biden 20 points ahead of Sanders across the country, though other polls show a smaller margin.) Sanders made clear that he was also wary of Booker, whom he regards as a potent messenger. In the months since, his aides have kept close tabs on the maneuvers of a wide range of potential candidates, questioning whether Warren intends to run as, in the words of multiple Sanders allies, \\u201cBernie-light\\u201d and smiling at the prospect of a matchup against Michael Bloomberg. \\n \\n Everyone in Sanders\\u2019s orbit recognizes the difficulty he\\u2019s had in speaking beyond issues of economics and political corruption. \\u201cThe 2020 challenge will be making sure [he] can inclusively get the class message out in a way that doesn\\u2019t make it seem like he\\u2019s dismissing identity issues,\\u201d says one Sanders adviser. To this end, he has established public relationships with the reverends Dr. William Barber and Al Sharpton, as well as Randall Woodfin and Chokwe Antar Lumumba, the young African-American mayors of Birmingham, Alabama, and Jackson, Mississippi, respectively. But he continues to say things that exacerbate his problems. In April, he faced backlash for appearing to dismiss Obama as just a \\u201ccharismatic individual,\\u201d and, more recently, some black lawmakers bristled at what they perceived as Sanders\\u2019s attempt to take credit for Andrew Gillum\\u2019s primary win in the Florida governor\\u2019s race. Then, as the results were tallied in Florida and Georgia, Sanders had trouble calling voters who were uncomfortable with voting for black candidates \\u201cracist,\\u201d though he did use the word to describe some GOP candidates\\u2019 campaigns. At a May conference hosted by the liberal Center for American Progress think tank, Sanders\\u2019s speaking slot was billed as \\u201cFocus on Criminal Justice.\\u201d But when his office sent out his prepared remarks, it looked like a modified version of his old stump speech. \\n \\n The title was \\u201cBreaking Up the Oligarchy.\\u201d \\n \\n Mostly, Sanders\\u2019s advisers fear that he doesn\\u2019t fully appreciate how difficult another run will be. The primaries alone will cost hundreds of millions of dollars, they\\u2019ve told him. Staffing up will be complicated. In recent months, his allies have talked about 2020 roles with dozens of former and potential campaign workers, many of whom are concerned that the main change he talks about making this time around is assembling a more robust digital team. (As long as Sanders\\u2019s inner circle includes Weaver, many senior 2016 staffers will take themselves out of the running or Weaver will remove them. He is polarizing even by the standards of political-campaign operatives.) And the race will almost certainly be more negative this time around. In July, over 200 centrist Democratic lawmakers, operatives, and donors met in Columbus, Ohio, to plan how to beat both Trump and Sanders. \\n \\n But Sanders can\\u2019t believe a 2020 race will be any more cynical or negative than the last one. In his experience, the attacks against him and his wife were so raw that he hasn\\u2019t asked his advisers for the customary \\u201cself-research\\u201d that might surface new vulnerabilities. \\u201cLook, you don\\u2019t even need [opposition research],\\u201d he tells me. \\u201cIf I were a choirboy, it doesn\\u2019t matter, because they lie all the time.\\u201d But Clinton\\u2019s team never ran television ads against Sanders that attacked him personally, and even people close to him fear the amount of potential material is considerable. No opponent has done a full dive through Sanders\\u2019s years\\u2019 worth of television clips and essays \\u2014 in 2015, an article he wrote in 1972 that included a line about a woman who \\u201cfantasizes being raped by 3 men simultaneously\\u201d resurfaced and became a brief political flash point \\u2014 or succeeded in persuading him to release a full accounting of his taxes. There are also his appearances on RT, the Russian-government-funded network, during the 2016 campaign, and his team\\u2019s hesitancy to reckon with Robert Mueller\\u2019s finding that Russian agents at one point supported his campaign. \\n \\n When I ask Sanders if there\\u2019s anything he wishes he\\u2019d done differently over the past two years, he quickly says, \\u201cI\\u2019m sure there are a million things.\\u201d But then, just as quickly, he backtracks. \\u201cYou always \\u2026 I don\\u2019t \\u2026 Nothing, you know, jumps out at me.\\u201d \\n \\n On October 2, Sanders\\u2019s day began with an email from an aide informing him that if he checked the news, he\\u2019d see Amazon had just raised its minimum wage to $15 an hour for U.S. employees. This is the kind of victory he still isn\\u2019t used to celebrating, and later that morning he wondered aloud whether it was his most important accomplishment ever. \\n \\n Activists had been fighting for a higher minimum wage at Amazon for years, and Sanders had recently used his fame to call attention to it. On an issue like this, he\\u2019d told his team, it helps to stop thinking like a senator and start thinking primarily like someone with a huge platform. In July, he\\u2019d live-streamed a town hall with workers from Disney, Amazon, American Airlines, Walmart, and McDonald\\u2019s; by August, Disney World announced it planned to raise its minimum wage to $15. In September, he introduced legislation in the Senate, following a similar bill introduced by California representative Ro Khanna last year, intended to pressure Amazon, knowing that by signing on to it, he would give the legislation a new round of attention. They branded this version the Stop Bad Employers by Zeroing Out Subsidies Act \\u2014 \\u201cStop BEZOS.\\u201d \\n \\n When liberals worried the proposal would backfire, Sanders\\u2019s team argued they\\u2019d missed the point: The bill wasn\\u2019t intended to become law. \\u201cYou use the opportunity you have within the context that you\\u2019re forced to work,\\u201d Sanders says. \\u201cRight now, nothing good is going to happen for workers in this Congress, and therefore we have to go outside.\\u201d This month, he introduced the Stop Walmart Act, and he\\u2019s pushing the new Democratic House majority to pass a national $15 minimum wage. \\n \\n And yet, as proud as he is to have found ways to put a dent in income inequality \\u2014 under a Trump administration, no less \\u2014 Sanders finds a lot of his newfound fame deeply unpleasant. He has talked with friends about the pressure of being, in his mind, the most popular politician in the country. He travels constantly but can\\u2019t go anywhere without being mobbed. He shoos away cameras that get too close, cuts off questioners. \\u201cIt\\u2019s hard to walk down the street without people coming up to you,\\u201d he says. \\u201cThere\\u2019s no interview I can give that does not have the possibility of a \\u2018gotcha\\u2019 question. \\u2018Oh, we can trap him, embarrass Sanders.\\u2019 \\u201d His decision to at least partially ingratiate himself with the Democratic Establishment is its own kind of heartache. He believes he has a responsibility to shape the party in his image, but at what point do these negotiations turn him into just another politician? \\n \\n Whenever Sanders is asked about his age, he reddens, cracks an annoyed smile, tilts his head down to peer above his glasses, and opens his eyes wide. The question, he tells me, holding eye contact far more than usual, is getting annoying. \\u201cIf we say, \\u2018Oh my God, I have a communications director here who\\u2019s a woman,\\u2019 oh my God, you would go crazy. I would be pilloried all over the country: I\\u2019m a sexist guy. \\u2018Oh my God, we\\u2019re working with African-Americans!\\u2019 I don\\u2019t know: lalalala,\\u201d he says. \\u201cAnd yet \\u2014 yet! \\u2014 I think ageism is a real issue, okay? And I think when we look at individuals, we look at their totality, all right? There are, you know, 50-year-olds who retired for whatever reason, people who are dealing with terrible illnesses, all right? Age is a factor! But it is one of many factors! \\n \\n \\u201cI thank God, you know, I can\\u2019t remember the last day \\u2014 honestly \\u2014 when I missed work,\\u201d he continues. Opponents make his age an issue only when they can\\u2019t compete on issues, he says. \\u201cWhat people have a right to know: Is the candidate healthy? Does he or she have the energy to do what is a very stressful and difficult job?\\u201d \\n \\n Some close Sanders allies do think his path to the White House has never been clearer. But other friends have warned him there\\u2019s a good chance that if he enters the race, his first day will be his best day. They\\u2019ve softly nudged him to consider the symbolic power of handing off his mantle to a younger leader \\u2014 as well as the influence he\\u2019d wield over the primary races if he strategically withheld his support. \\u201cHis message is one that obviously resonated a couple years ago,\\u201d says Tom Harkin, the former Iowa senator whom Sanders consulted before his last campaign. Now, Harkin says, other Democrats must acknowledge that \\u201cBernie\\u2019s message is heightened by what Trump has done.\\u201d \\n \\n A lot likely comes down to Warren, whom Sanders has called \\u201cmy favorite senator.\\u201d In 2016, according to advisers, the prospect of a Warren campaign nearly kept Sanders out of the race. Now some Sanders allies watching her maneuver toward 2020 perceive her trying to elbow him out. Neither senator has expressed any interest in stepping aside for the other, and the pair have mostly ignored entreaties from allies to meet in person and hash out an agreement. But given the complexity of launching a campaign, Sanders will have to make the decision in the next few months or the calendar will make it for him. \\n \\n \\u201cThe question that history will answer, depending on what he decides to do, is: Is he going to be the Barry Goldwater or the Ronald Reagan?\\u201d says Khanna. \\u201cIs he going to be the person who defines the ideology to have someone else win?\\u201d Sanders is pretty certain that even being president wouldn\\u2019t satisfy him \\u2014 activism is a constant struggle, he tells people, and it\\u2019s a classic politician\\u2019s mistake to believe in such a thing as an endgame. But for the first time in his career, he\\u2019s seeing the country shift in his direction. The revolution is \\u201calready off the ground,\\u201d Sanders tells me, as if it were the most obvious thing in the world. \\u201cThe genie is out of the bottle.\\u201d \\n \\n *This article appears in the November 26, 2018, issue of New York Magazine. Subscribe Now! ||||| Sen. Bernie Sanders Bernard (Bernie) SandersOn The Money: US, Mexico, Canada sign trade deal | Ocasio-Cortez seeks spot on House banking panel | New GOP tax bill hits roadblock Rahm Emanuel throws cold water on Beto O'Rourke 2020 talk Sanders to 'strongly oppose' Trump trade deal MORE (I-Vt.) said he will probably run for president in 2020 if he is the best candidate to beat President Trump Donald John TrumpTrump praises George H.W. Bush's humility and 'unflappable leadership' Former President George H.W. Bush dies at 94 Trump issues Alaska emergency declaration after earthquake MORE. \\n \\n \\\"I\\u2019m not one of those sons of multimillionaires whose parents told them they were going to become president of the United States,\\\" Sanders told New York Magazine. \\\"I don\\u2019t wake up in the morning with any burning desire that I have to be president.\\\" \\n \\n \\\"If there\\u2019s somebody else who appears who can, for whatever reason, do a better job than me, I\\u2019ll work my ass off to elect him or her,\\\" he added. \\\"If it turns out that I am the best candidate to beat Donald Trump, then I will probably run.\\u201d \\n \\n ADVERTISEMENT \\n \\n Sanders made similar remarks last week, saying his team was \\\"looking at\\\" the possibility of a 2020 run. \\n \\n \\\"[I]t\\u2019s a decision that impacts your family,\\\" Sanders said on MSNBC's \\\"PoliticsNation with Al Sharpton.\\\" \\n \\n \\\"And I want to make sure that when I make that decision, if I decide to run, that I have concluded, in fact, that I am the strongest candidate who can defeat Donald Trump,\\\" he said. \\n \\n Sanders ran in the 2016 Democratic primaries and garnered popularity among progressives, before being defeated by former Secretary of State Hillary Clinton Hillary Diane Rodham ClintonTrump praises George H.W. Bush's humility and 'unflappable leadership' Trump, Russia and lessons from the mob: Did \\u2018godfathers\\u2019 steer collusion probe? Hill reporter says presidential, midterm races are fought on different battlefields MORE for the nomination. \\n \\n The self-described democratic socialist has been one of Trump's most outspoken critics the Senate, often referring to him as the \\\"most racist, sexist, homophobic, bigoted president in history.\\\"\"\n        ],\n        \"semantic_type\": \"\",\n        \"description\": \"\"\n      }\n    },\n    {\n      \"column\": \"summary\",\n      \"properties\": {\n        \"dtype\": \"string\",\n        \"num_unique_values\": 2000,\n        \"samples\": [\n          \"\\u2013 Police say a Cincinnati father, thinking he heard an intruder in his basement, fatally shot his 14-year-old son Tuesday morning, the AP reports. According to the Cincinnati Inquirer, the father dropped his son off at the bus stop before returning home. When he heard a noise in his basement, he assumed his son was at school and got a gun to check it out, the AP reports. Police say he fired a shot \\\"after apparently being startled,\\\" and his son was hit in the neck. The teen was taken to the hospital, where he died from his injuries, the Inquirer reports. No charges have been filed, and the names of the father and son haven't been released. According to the AP, the father is cooperating with the police investigation. (In December, a Florida mother fatally shot her 27-year-old daughter she mistook for an intruder.)\",\n          \"\\u2013 The price of Bitcoins is skyrocketing at a head-turning rate\\u2014they're currently worth more than $200 each, up from $90 when we wrote this piece on the phenomenon two weeks ago\\u2014which has everyone wondering: Is this a bubble? And should you buy anyway in the likely event that it is? Here's what people are saying: Farhad Manjoo at Slate gives a first-hand account of the confusing and frankly downright shady process for buying the coins. \\\"You've got to take several leaps of faith, trusting sites that look like they were put together by teenagers,\\\" he writes. But that's why he thinks this bubble still has legs. Bubbles, he theorizes, take off when mainstream buyers get involved. Once better Bitcoin sites appear, the masses will arrive, and \\\"prices will begin to get really crazy.\\\" Speculators \\\"are just laughing at all the people who are dismissing Bitcoin as a bubble,\\\" writes Henry Blodget at Business Insider. Because the most you can lose on Bitcoins is 100% of your money\\u2014and you stand to make much more than 100% back. Like, say, 600% (which investors have made in the last six weeks). That said, lots of things could obliterate the market, like hacking, or a government crackdown. Timothy Lee at Forbes thinks Bitcoins are a bonafide disruptive technology. \\\"The Bitcoin economy today looks a lot like the PC market circa 1978,\\\" he observes. \\\"Most people today look at Bitcoin and see an impractical curiosity.\\\" But Bitcoin isn't a product, it's a platform, and one with lots of room to grow. But Kurt Eichenwald at Vanity Fair is far, far less convinced, calling the system \\\"very cool. But also very foolish.\\\" Bitcoins aren't a currency anymore\\u2014currencies are based on \\\"a rational expectation of relatively stable valuation,\\\" and Bitcoin prices are anything but stable or rational. \\\"In essence, the market is a fantasy,\\\" based on speculators and investors. And when they stop buying, who will replace them? \\\"My bet? No one.\\\" It's worth noting that the price took a really nasty hit today, falling 24% from its intra-day high of $266.\",\n          \"\\u2013 Bernie 2020? It's a distinct possibility: \\\"If there\\u2019s somebody else who appears who can, for whatever reason, do a better job than me, I\\u2019ll work my ass off to elect him or her,\\\" Bernie Sanders tells New York of the next presidential election. But, the Vermont senator adds, \\\"If it turns out that I am the best candidate to beat Donald Trump, then I will probably run.\\\" He insists, however, \\\"I\\u2019m not one of those sons of multimillionaires whose parents told them they were going to become president of the United States. I don\\u2019t wake up in the morning with any burning desire that I have to be president.\\\" The Hill notes that Sanders, 77, also said last week his team was \\\"looking at\\\" the possibility of running in 2020. (Hillary, too?)\"\n        ],\n        \"semantic_type\": \"\",\n        \"description\": \"\"\n      }\n    }\n  ]\n}"
            }
          },
          "metadata": {},
          "execution_count": 24
        }
      ]
    },
    {
      "cell_type": "code",
      "source": [
        "# Load a pre-trained sentence transformer model\n",
        "model = SentenceTransformer(\"all-MiniLM-L6-v2\")\n",
        "model"
      ],
      "metadata": {
        "colab": {
          "base_uri": "https://localhost:8080/"
        },
        "id": "G8Mvbpxwe75q",
        "outputId": "80cd3e29-4a3a-4c18-bc36-c0575b53ab44"
      },
      "execution_count": null,
      "outputs": [
        {
          "output_type": "execute_result",
          "data": {
            "text/plain": [
              "SentenceTransformer(\n",
              "  (0): Transformer({'max_seq_length': 256, 'do_lower_case': False}) with Transformer model: BertModel \n",
              "  (1): Pooling({'word_embedding_dimension': 384, 'pooling_mode_cls_token': False, 'pooling_mode_mean_tokens': True, 'pooling_mode_max_tokens': False, 'pooling_mode_mean_sqrt_len_tokens': False, 'pooling_mode_weightedmean_tokens': False, 'pooling_mode_lasttoken': False, 'include_prompt': True})\n",
              "  (2): Normalize()\n",
              ")"
            ]
          },
          "metadata": {},
          "execution_count": 25
        }
      ]
    },
    {
      "cell_type": "code",
      "source": [
        "# Encode each summary in the DataFrame using the sentence transformer model and store the embeddings in a list\n",
        "passage_embeddings = list(model.encode(df['summary'].to_list(), show_progress_bar=True))\n",
        "\n",
        "# Print the shape of the first passage embedding\n",
        "passage_embeddings[0].shape"
      ],
      "metadata": {
        "colab": {
          "base_uri": "https://localhost:8080/",
          "height": 66,
          "referenced_widgets": [
            "e39aae37cbcb46ce8d3b687c797db224",
            "a04a3ddefd5f4b7a8f51f3195d4df2f1",
            "b444cd5526bf4cacaf3776a54bebeffc",
            "80db591216244361b7a83ab9ce133f0d",
            "998f8c8fb67e40c1b325f6198319cd4e",
            "2bf637c325074792afa84dfabe0fd21e",
            "a18d8d31ab664366ad55f0a24edf407a",
            "df828a26e1844c08b2f899afd0d6389d",
            "74dae2f9b82c4229b231fc05172147f3",
            "6c4bcaa50cba4f07893665d031454539",
            "97e290ea50c847d5a94251ea4d965559"
          ]
        },
        "id": "DJYGywxHfznI",
        "outputId": "f638c9a9-87b2-4b26-c70c-4e76ffe2ee52"
      },
      "execution_count": null,
      "outputs": [
        {
          "output_type": "display_data",
          "data": {
            "text/plain": [
              "Batches:   0%|          | 0/63 [00:00<?, ?it/s]"
            ],
            "application/vnd.jupyter.widget-view+json": {
              "version_major": 2,
              "version_minor": 0,
              "model_id": "e39aae37cbcb46ce8d3b687c797db224"
            }
          },
          "metadata": {}
        },
        {
          "output_type": "execute_result",
          "data": {
            "text/plain": [
              "(384,)"
            ]
          },
          "metadata": {},
          "execution_count": 26
        }
      ]
    },
    {
      "cell_type": "code",
      "source": [
        "# Declare a query string\n",
        "query = \"Covid preventions\""
      ],
      "metadata": {
        "id": "um-SJcbQf-pR"
      },
      "execution_count": null,
      "outputs": []
    },
    {
      "cell_type": "code",
      "source": [
        "# Encode the query using the sentence transformer model\n",
        "query_embedding = model.encode(query, show_progress_bar=True)\n",
        "query_embedding.shape"
      ],
      "metadata": {
        "colab": {
          "base_uri": "https://localhost:8080/",
          "height": 66,
          "referenced_widgets": [
            "9d835804af284766a3711c65698f55b3",
            "d7aabddca80e4418aa5a48e87a607b9a",
            "39bfeadeb0434d9ca6e993293c39a2f6",
            "5f0e13b5620f4e26b2f4c76f9a0cead2",
            "9963dbcaf33e469b8df993845d742e26",
            "2e609ee877b8426c87a52049482b39f1",
            "153d10441482456bbdf0909d22859abe",
            "46dc29fadecb42f2852484918ae44dc6",
            "f327c67b75964331b94beac6346b1d30",
            "089f5cba63294c4ea9d0c633e4659324",
            "eb0d41e03c814dde8f2ab753778e9017"
          ]
        },
        "id": "RKzy4a1bh-w5",
        "outputId": "2098343e-3f93-4214-864d-99d1ae0c2103"
      },
      "execution_count": null,
      "outputs": [
        {
          "output_type": "display_data",
          "data": {
            "text/plain": [
              "Batches:   0%|          | 0/1 [00:00<?, ?it/s]"
            ],
            "application/vnd.jupyter.widget-view+json": {
              "version_major": 2,
              "version_minor": 0,
              "model_id": "9d835804af284766a3711c65698f55b3"
            }
          },
          "metadata": {}
        },
        {
          "output_type": "execute_result",
          "data": {
            "text/plain": [
              "(384,)"
            ]
          },
          "metadata": {},
          "execution_count": 28
        }
      ]
    },
    {
      "cell_type": "code",
      "source": [
        "# Calculate the cosine similarity between the query embedding and the passage embeddings\n",
        "similarities = util.cos_sim(query_embedding, passage_embeddings)\n",
        "similarities.shape"
      ],
      "metadata": {
        "colab": {
          "base_uri": "https://localhost:8080/"
        },
        "id": "kTwxMeJJiJqo",
        "outputId": "6a5a45ad-b418-48aa-8ee1-969c17993f7d"
      },
      "execution_count": null,
      "outputs": [
        {
          "output_type": "execute_result",
          "data": {
            "text/plain": [
              "torch.Size([1, 2000])"
            ]
          },
          "metadata": {},
          "execution_count": 29
        }
      ]
    },
    {
      "cell_type": "code",
      "source": [
        "# Find the indices of the top 3 most similar passages\n",
        "top_indices = torch.topk(similarities.flatten(), 3).indices\n",
        "top_indices"
      ],
      "metadata": {
        "colab": {
          "base_uri": "https://localhost:8080/"
        },
        "id": "XtsO5Ivbiugf",
        "outputId": "7ad8459e-3395-4fe6-e1ef-ec03c6f07f1d"
      },
      "execution_count": null,
      "outputs": [
        {
          "output_type": "execute_result",
          "data": {
            "text/plain": [
              "tensor([1279, 1926, 1928])"
            ]
          },
          "metadata": {},
          "execution_count": 30
        }
      ]
    },
    {
      "cell_type": "code",
      "source": [
        "top_relevant_passages = [df.iloc[x.item()]['summary'] + \"...\" for x in top_indices]\n",
        "top_relevant_passages"
      ],
      "metadata": {
        "colab": {
          "base_uri": "https://localhost:8080/"
        },
        "id": "DUO8cYbHi8dP",
        "outputId": "806b3407-69bf-4c12-892a-dd96e8a804b9"
      },
      "execution_count": null,
      "outputs": [
        {
          "output_type": "execute_result",
          "data": {
            "text/plain": [
              "['– Chris Christie may have a pretty irate nurse taking the Garden State to task over the execution of his mandatory-quarantine policy toward Ebola, but he\\'s standing by it. \"I think this is a policy that will become a national policy sooner rather than later,\" he told Fox News Sunday today, as per Politico. \"It was my conclusion that we needed to do this to protect the public health of the people of New Jersey. We have taken this action, and I have no second thoughts about it.\" Fellow Republican Darrell Issa, meanwhile, says that New Jersey\\'s quarantine—like those in Illinois and New York—is an attempt to compensate for the White House\\'s lack of leadership on Ebola, but probably not the best course. \"Science has told us that if someone doesn’t have an elevated temperature or the other later symptoms, that we can rely on them not being contagious,\" he said. \"If that’s true, then immediate isolation of people for 21 days is not the answer. Again, trust matters.\" Elsewhere on your Sunday dial: National Institute for Allergy and Infectious Diseases Director Anthony Fauci: \"Asymptomatic (people) do not transmit. That doesn\\'t mean we\\'re cavalier about it, but that means there are other steps (to avoid the) unintended consequences of disincentivizing health care workers.\" Per the AP: \"The best way to protect us is to stop the epidemic in Africa, and we need those health care workers so we do not want to put them in a position where it makes it very, very uncomfortable US Ambassador to the UN Samantha Power: Returning American health care workers need to be \"treated like conquering heroes and not stigmatized for the tremendous work that they have done.\"...',\n",
              " \"– Hand-wringing isn't going to help stop the world's Ebola outbreak, but money might. The New York Times offers a list of groups trying to keep the disease in check in West Africa and elsewhere, along with links for those interested in donating: Doctors Without Borders: Ways to help here. International Medical Corps: Go here. UNICEF: Go here. Save the Children: Go here. International Red Cross: Go here. World Food Program: Go here. Samaritan's Purse: Go here. Partners in Health: Go here. Americares: Go here. An NBC cameraman is the latest American to contract the disease....\",\n",
              " '– A coastal virus that can cause a rash and mild fever has officially infected a person for the first time, NPR reports. Scientists say it took 18 months to figure out that a Florida teen who got sick during the Zika outbreak of 2016 actually had the Keystone virus, which is carried by mosquitos. \"We couldn\\'t identify what was going on,\" J. Glenn Morris, head of the Emerging Pathogens Institute at the University of Florida, tells WUSF. \"We screened this with all the standard approaches and it literally took a year and a half of sort of dogged laboratory work to figure out what this virus was.\" There wasn\\'t even a test to detect Keystone virus in humans. The 16-year-old boy had a fever and a bad rash, but not the encephalitis (or brain inflammation) that a group of viruses including Keystone can cause in animals. First seen in America in 1964, Keystone is known to infect \"animal populations along coastal regions stretching from Texas to the Chesapeake Bay,\" per a University of Florida Health statement. Scientists have long suspected there are human cases, but the new study in Clinical Infectious Diseases confirms it. \"The infection may actually be fairly common in North Florida,\" says lead study author John Lednicky. \"It\\'s one of these instances where if you don\\'t know to look for something, you don\\'t find it.\"...']"
            ]
          },
          "metadata": {},
          "execution_count": 31
        }
      ]
    }
  ]
}